{
 "cells": [
  {
   "cell_type": "code",
   "execution_count": 1,
   "metadata": {},
   "outputs": [],
   "source": [
    "# Import statements\n",
    "import pandas as pd\n",
    "import textblob\n",
    "from textblob import Word, TextBlob\n",
    "import nltk\n",
    "from nltk.corpus import stopwords\n",
    "import re # regular expression\n",
    "import os\n",
    "from wordcloud import WordCloud # to represnet words in image format\n",
    "import matplotlib.pyplot as plt\n",
    "from collections import Counter  # frequency calculations\n",
    "from sklearn.model_selection import train_test_split\n",
    "from sklearn import metrics, svm\n",
    "from sklearn.feature_extraction.text import TfidfVectorizer # noramlization of a data like a min max scalar"
   ]
  },
  {
   "cell_type": "code",
   "execution_count": 2,
   "metadata": {},
   "outputs": [
    {
     "data": {
      "text/plain": [
       "'C:\\\\Users\\\\harid\\\\OneDrive\\\\Desktop\\\\ksr practice session\\\\project on sentiental analsis'"
      ]
     },
     "execution_count": 2,
     "metadata": {},
     "output_type": "execute_result"
    }
   ],
   "source": [
    "os.getcwd()"
   ]
  },
  {
   "cell_type": "code",
   "execution_count": 3,
   "metadata": {},
   "outputs": [],
   "source": [
    "# Import Excel data\n",
    "OriginalData = pd.read_excel(\"Glassdoor reviews.xlsx\", header = 0, na_values = ['NaN'])"
   ]
  },
  {
   "cell_type": "code",
   "execution_count": 4,
   "metadata": {},
   "outputs": [
    {
     "data": {
      "text/html": [
       "<div>\n",
       "<style scoped>\n",
       "    .dataframe tbody tr th:only-of-type {\n",
       "        vertical-align: middle;\n",
       "    }\n",
       "\n",
       "    .dataframe tbody tr th {\n",
       "        vertical-align: top;\n",
       "    }\n",
       "\n",
       "    .dataframe thead th {\n",
       "        text-align: right;\n",
       "    }\n",
       "</style>\n",
       "<table border=\"1\" class=\"dataframe\">\n",
       "  <thead>\n",
       "    <tr style=\"text-align: right;\">\n",
       "      <th></th>\n",
       "      <th>Pros</th>\n",
       "      <th>Cons</th>\n",
       "    </tr>\n",
       "  </thead>\n",
       "  <tbody>\n",
       "    <tr>\n",
       "      <th>0</th>\n",
       "      <td>A very good company, working environment is ve...</td>\n",
       "      <td>Paywise iit is very less</td>\n",
       "    </tr>\n",
       "    <tr>\n",
       "      <th>1</th>\n",
       "      <td>Good working environment in Bangalore</td>\n",
       "      <td>compensation is not that great</td>\n",
       "    </tr>\n",
       "  </tbody>\n",
       "</table>\n",
       "</div>"
      ],
      "text/plain": [
       "                                                Pros  \\\n",
       "0  A very good company, working environment is ve...   \n",
       "1              Good working environment in Bangalore   \n",
       "\n",
       "                             Cons  \n",
       "0        Paywise iit is very less  \n",
       "1  compensation is not that great  "
      ]
     },
     "execution_count": 4,
     "metadata": {},
     "output_type": "execute_result"
    }
   ],
   "source": [
    "OriginalData.head(2)"
   ]
  },
  {
   "cell_type": "code",
   "execution_count": 5,
   "metadata": {},
   "outputs": [
    {
     "data": {
      "text/plain": [
       "(1365, 2)"
      ]
     },
     "execution_count": 5,
     "metadata": {},
     "output_type": "execute_result"
    }
   ],
   "source": [
    "OriginalData.shape"
   ]
  },
  {
   "cell_type": "code",
   "execution_count": 6,
   "metadata": {
    "scrolled": true
   },
   "outputs": [
    {
     "data": {
      "text/html": [
       "<div>\n",
       "<style scoped>\n",
       "    .dataframe tbody tr th:only-of-type {\n",
       "        vertical-align: middle;\n",
       "    }\n",
       "\n",
       "    .dataframe tbody tr th {\n",
       "        vertical-align: top;\n",
       "    }\n",
       "\n",
       "    .dataframe thead th {\n",
       "        text-align: right;\n",
       "    }\n",
       "</style>\n",
       "<table border=\"1\" class=\"dataframe\">\n",
       "  <thead>\n",
       "    <tr style=\"text-align: right;\">\n",
       "      <th></th>\n",
       "      <th>Pros</th>\n",
       "      <th>Cons</th>\n",
       "    </tr>\n",
       "  </thead>\n",
       "  <tbody>\n",
       "    <tr>\n",
       "      <th>731</th>\n",
       "      <td>NaN</td>\n",
       "      <td>NaN</td>\n",
       "    </tr>\n",
       "  </tbody>\n",
       "</table>\n",
       "</div>"
      ],
      "text/plain": [
       "    Pros Cons\n",
       "731  NaN  NaN"
      ]
     },
     "execution_count": 6,
     "metadata": {},
     "output_type": "execute_result"
    }
   ],
   "source": [
    "OriginalData.loc[OriginalData[\"Pros\"].isnull() & OriginalData[\"Cons\"].isnull()]"
   ]
  },
  {
   "cell_type": "code",
   "execution_count": 7,
   "metadata": {},
   "outputs": [],
   "source": [
    "OriginalData1=OriginalData.drop([731],axis=0)"
   ]
  },
  {
   "cell_type": "code",
   "execution_count": 8,
   "metadata": {},
   "outputs": [
    {
     "data": {
      "text/plain": [
       "(1364, 2)"
      ]
     },
     "execution_count": 8,
     "metadata": {},
     "output_type": "execute_result"
    }
   ],
   "source": [
    "OriginalData1.shape"
   ]
  },
  {
   "cell_type": "code",
   "execution_count": 9,
   "metadata": {},
   "outputs": [],
   "source": [
    "# Drop the rows with all nulls\n",
    "\n",
    "OriginalData = OriginalData.drop(OriginalData[(OriginalData.Cons.isnull() & OriginalData.Pros.isnull())].index)"
   ]
  },
  {
   "cell_type": "code",
   "execution_count": 10,
   "metadata": {},
   "outputs": [
    {
     "data": {
      "text/plain": [
       "(1364, 2)"
      ]
     },
     "execution_count": 10,
     "metadata": {},
     "output_type": "execute_result"
    }
   ],
   "source": [
    "OriginalData.shape"
   ]
  },
  {
   "cell_type": "code",
   "execution_count": 11,
   "metadata": {},
   "outputs": [
    {
     "data": {
      "text/html": [
       "<div>\n",
       "<style scoped>\n",
       "    .dataframe tbody tr th:only-of-type {\n",
       "        vertical-align: middle;\n",
       "    }\n",
       "\n",
       "    .dataframe tbody tr th {\n",
       "        vertical-align: top;\n",
       "    }\n",
       "\n",
       "    .dataframe thead th {\n",
       "        text-align: right;\n",
       "    }\n",
       "</style>\n",
       "<table border=\"1\" class=\"dataframe\">\n",
       "  <thead>\n",
       "    <tr style=\"text-align: right;\">\n",
       "      <th></th>\n",
       "      <th>Pros</th>\n",
       "      <th>Cons</th>\n",
       "    </tr>\n",
       "  </thead>\n",
       "  <tbody>\n",
       "  </tbody>\n",
       "</table>\n",
       "</div>"
      ],
      "text/plain": [
       "Empty DataFrame\n",
       "Columns: [Pros, Cons]\n",
       "Index: []"
      ]
     },
     "execution_count": 11,
     "metadata": {},
     "output_type": "execute_result"
    }
   ],
   "source": [
    "OriginalData.loc[OriginalData[\"Pros\"].isnull() & OriginalData[\"Cons\"].isnull()]"
   ]
  },
  {
   "cell_type": "code",
   "execution_count": 12,
   "metadata": {},
   "outputs": [
    {
     "data": {
      "text/html": [
       "<div>\n",
       "<style scoped>\n",
       "    .dataframe tbody tr th:only-of-type {\n",
       "        vertical-align: middle;\n",
       "    }\n",
       "\n",
       "    .dataframe tbody tr th {\n",
       "        vertical-align: top;\n",
       "    }\n",
       "\n",
       "    .dataframe thead th {\n",
       "        text-align: right;\n",
       "    }\n",
       "</style>\n",
       "<table border=\"1\" class=\"dataframe\">\n",
       "  <thead>\n",
       "    <tr style=\"text-align: right;\">\n",
       "      <th></th>\n",
       "      <th>Pros</th>\n",
       "      <th>Cons</th>\n",
       "    </tr>\n",
       "  </thead>\n",
       "  <tbody>\n",
       "    <tr>\n",
       "      <th>169</th>\n",
       "      <td>- Good work life balance\\n\\n-  Open door polic...</td>\n",
       "      <td>NaN</td>\n",
       "    </tr>\n",
       "    <tr>\n",
       "      <th>408</th>\n",
       "      <td>-Onsite opportunities are good if you are in E...</td>\n",
       "      <td>NaN</td>\n",
       "    </tr>\n",
       "    <tr>\n",
       "      <th>552</th>\n",
       "      <td>-Highly caring about peoples and cultures\\n\\n-...</td>\n",
       "      <td>NaN</td>\n",
       "    </tr>\n",
       "    <tr>\n",
       "      <th>653</th>\n",
       "      <td>- Good Work Environment\\n\\n- Work Life Balance...</td>\n",
       "      <td>NaN</td>\n",
       "    </tr>\n",
       "    <tr>\n",
       "      <th>671</th>\n",
       "      <td>- Good work environment\\n\\n- Good policies\\n\\n...</td>\n",
       "      <td>NaN</td>\n",
       "    </tr>\n",
       "    <tr>\n",
       "      <th>787</th>\n",
       "      <td>- If you are in right team, you get to work on...</td>\n",
       "      <td>NaN</td>\n",
       "    </tr>\n",
       "    <tr>\n",
       "      <th>807</th>\n",
       "      <td>- Flexible work culture\\n\\n- Plenty of opportu...</td>\n",
       "      <td>NaN</td>\n",
       "    </tr>\n",
       "    <tr>\n",
       "      <th>1187</th>\n",
       "      <td>-- You will get a lot of exposure to work on t...</td>\n",
       "      <td>NaN</td>\n",
       "    </tr>\n",
       "  </tbody>\n",
       "</table>\n",
       "</div>"
      ],
      "text/plain": [
       "                                                   Pros Cons\n",
       "169   - Good work life balance\\n\\n-  Open door polic...  NaN\n",
       "408   -Onsite opportunities are good if you are in E...  NaN\n",
       "552   -Highly caring about peoples and cultures\\n\\n-...  NaN\n",
       "653   - Good Work Environment\\n\\n- Work Life Balance...  NaN\n",
       "671   - Good work environment\\n\\n- Good policies\\n\\n...  NaN\n",
       "787   - If you are in right team, you get to work on...  NaN\n",
       "807   - Flexible work culture\\n\\n- Plenty of opportu...  NaN\n",
       "1187  -- You will get a lot of exposure to work on t...  NaN"
      ]
     },
     "execution_count": 12,
     "metadata": {},
     "output_type": "execute_result"
    }
   ],
   "source": [
    "OriginalData.loc[OriginalData[\"Cons\"].isnull()]"
   ]
  },
  {
   "cell_type": "code",
   "execution_count": 13,
   "metadata": {},
   "outputs": [],
   "source": [
    "# Replace null columns in cons column to \"No Cons\"\n",
    "OriginalData.loc[(OriginalData.Cons.isnull())] = \"No Cons\""
   ]
  },
  {
   "cell_type": "code",
   "execution_count": 14,
   "metadata": {},
   "outputs": [
    {
     "data": {
      "text/html": [
       "<div>\n",
       "<style scoped>\n",
       "    .dataframe tbody tr th:only-of-type {\n",
       "        vertical-align: middle;\n",
       "    }\n",
       "\n",
       "    .dataframe tbody tr th {\n",
       "        vertical-align: top;\n",
       "    }\n",
       "\n",
       "    .dataframe thead th {\n",
       "        text-align: right;\n",
       "    }\n",
       "</style>\n",
       "<table border=\"1\" class=\"dataframe\">\n",
       "  <thead>\n",
       "    <tr style=\"text-align: right;\">\n",
       "      <th></th>\n",
       "      <th>Pros</th>\n",
       "      <th>Cons</th>\n",
       "    </tr>\n",
       "  </thead>\n",
       "  <tbody>\n",
       "  </tbody>\n",
       "</table>\n",
       "</div>"
      ],
      "text/plain": [
       "Empty DataFrame\n",
       "Columns: [Pros, Cons]\n",
       "Index: []"
      ]
     },
     "execution_count": 14,
     "metadata": {},
     "output_type": "execute_result"
    }
   ],
   "source": [
    "OriginalData.loc[OriginalData[\"Cons\"].isnull()]"
   ]
  },
  {
   "cell_type": "code",
   "execution_count": 15,
   "metadata": {},
   "outputs": [
    {
     "data": {
      "text/html": [
       "<div>\n",
       "<style scoped>\n",
       "    .dataframe tbody tr th:only-of-type {\n",
       "        vertical-align: middle;\n",
       "    }\n",
       "\n",
       "    .dataframe tbody tr th {\n",
       "        vertical-align: top;\n",
       "    }\n",
       "\n",
       "    .dataframe thead th {\n",
       "        text-align: right;\n",
       "    }\n",
       "</style>\n",
       "<table border=\"1\" class=\"dataframe\">\n",
       "  <thead>\n",
       "    <tr style=\"text-align: right;\">\n",
       "      <th></th>\n",
       "      <th>Pros</th>\n",
       "      <th>Cons</th>\n",
       "    </tr>\n",
       "  </thead>\n",
       "  <tbody>\n",
       "  </tbody>\n",
       "</table>\n",
       "</div>"
      ],
      "text/plain": [
       "Empty DataFrame\n",
       "Columns: [Pros, Cons]\n",
       "Index: []"
      ]
     },
     "execution_count": 15,
     "metadata": {},
     "output_type": "execute_result"
    }
   ],
   "source": [
    "OriginalData.loc[OriginalData[\"Pros\"].isnull()]"
   ]
  },
  {
   "cell_type": "code",
   "execution_count": 16,
   "metadata": {},
   "outputs": [],
   "source": [
    "# Divide the data into pros and cons\n",
    "prosdf = pd.DataFrame(OriginalData[\"Pros\"])\n",
    "consdf = pd.DataFrame(OriginalData[\"Cons\"])"
   ]
  },
  {
   "cell_type": "code",
   "execution_count": 17,
   "metadata": {},
   "outputs": [
    {
     "data": {
      "text/html": [
       "<div>\n",
       "<style scoped>\n",
       "    .dataframe tbody tr th:only-of-type {\n",
       "        vertical-align: middle;\n",
       "    }\n",
       "\n",
       "    .dataframe tbody tr th {\n",
       "        vertical-align: top;\n",
       "    }\n",
       "\n",
       "    .dataframe thead th {\n",
       "        text-align: right;\n",
       "    }\n",
       "</style>\n",
       "<table border=\"1\" class=\"dataframe\">\n",
       "  <thead>\n",
       "    <tr style=\"text-align: right;\">\n",
       "      <th></th>\n",
       "      <th>Pros</th>\n",
       "    </tr>\n",
       "  </thead>\n",
       "  <tbody>\n",
       "    <tr>\n",
       "      <th>0</th>\n",
       "      <td>A very good company, working environment is ve...</td>\n",
       "    </tr>\n",
       "    <tr>\n",
       "      <th>1</th>\n",
       "      <td>Good working environment in Bangalore</td>\n",
       "    </tr>\n",
       "    <tr>\n",
       "      <th>2</th>\n",
       "      <td>it has good work environment</td>\n",
       "    </tr>\n",
       "    <tr>\n",
       "      <th>3</th>\n",
       "      <td>Company is good  to work .\\n\\nWork life balance .</td>\n",
       "    </tr>\n",
       "    <tr>\n",
       "      <th>4</th>\n",
       "      <td>Equality among the colleagues ,Stress free env...</td>\n",
       "    </tr>\n",
       "  </tbody>\n",
       "</table>\n",
       "</div>"
      ],
      "text/plain": [
       "                                                Pros\n",
       "0  A very good company, working environment is ve...\n",
       "1              Good working environment in Bangalore\n",
       "2                       it has good work environment\n",
       "3  Company is good  to work .\\n\\nWork life balance .\n",
       "4  Equality among the colleagues ,Stress free env..."
      ]
     },
     "execution_count": 17,
     "metadata": {},
     "output_type": "execute_result"
    }
   ],
   "source": [
    "prosdf.head()"
   ]
  },
  {
   "cell_type": "code",
   "execution_count": 18,
   "metadata": {},
   "outputs": [
    {
     "data": {
      "text/html": [
       "<div>\n",
       "<style scoped>\n",
       "    .dataframe tbody tr th:only-of-type {\n",
       "        vertical-align: middle;\n",
       "    }\n",
       "\n",
       "    .dataframe tbody tr th {\n",
       "        vertical-align: top;\n",
       "    }\n",
       "\n",
       "    .dataframe thead th {\n",
       "        text-align: right;\n",
       "    }\n",
       "</style>\n",
       "<table border=\"1\" class=\"dataframe\">\n",
       "  <thead>\n",
       "    <tr style=\"text-align: right;\">\n",
       "      <th></th>\n",
       "      <th>Cons</th>\n",
       "    </tr>\n",
       "  </thead>\n",
       "  <tbody>\n",
       "    <tr>\n",
       "      <th>0</th>\n",
       "      <td>Paywise iit is very less</td>\n",
       "    </tr>\n",
       "    <tr>\n",
       "      <th>1</th>\n",
       "      <td>compensation is not that great</td>\n",
       "    </tr>\n",
       "    <tr>\n",
       "      <th>2</th>\n",
       "      <td>they do not have good opportunities any more i...</td>\n",
       "    </tr>\n",
       "    <tr>\n",
       "      <th>3</th>\n",
       "      <td>Very less hike now a days .\\n\\nAnnual variable...</td>\n",
       "    </tr>\n",
       "    <tr>\n",
       "      <th>4</th>\n",
       "      <td>I would say I don't find any cons in accent</td>\n",
       "    </tr>\n",
       "  </tbody>\n",
       "</table>\n",
       "</div>"
      ],
      "text/plain": [
       "                                                Cons\n",
       "0                           Paywise iit is very less\n",
       "1                     compensation is not that great\n",
       "2  they do not have good opportunities any more i...\n",
       "3  Very less hike now a days .\\n\\nAnnual variable...\n",
       "4        I would say I don't find any cons in accent"
      ]
     },
     "execution_count": 18,
     "metadata": {},
     "output_type": "execute_result"
    }
   ],
   "source": [
    "consdf.head()"
   ]
  },
  {
   "cell_type": "code",
   "execution_count": 19,
   "metadata": {},
   "outputs": [],
   "source": [
    "# Write some functions\n",
    "\n",
    "# Function to clean data\n",
    "def clean_review(text):\n",
    "    '''\n",
    "    This fucntion is to clean the data\n",
    "    '''\n",
    "    letters_only = re.sub(\"[^a-zA-Z]\",\" \", text) # Remove all digits and punctuation\n",
    "    words = letters_only.lower().split() # Convert it into lower case and then stroing in word format\n",
    "    clean_words = [w for w in words if len(w) > 2] # Remove 1/2 letter words\n",
    "    return(\" \".join(clean_words))\n",
    "\n",
    "# Function to identify stop words\n",
    "def stop_words(review):\n",
    "    words = review.lower().split() # split sentence into words\n",
    "    stops = set(stopwords.words(\"english\")) # import stop words from nltk\n",
    "    stop_words = [w for w in words if w in stops] # identify stop words from the sentence\n",
    "    return(list(set(stop_words)))\n",
    "\n",
    "# Function to plot word cloud\n",
    "def plot_word_cloud(text):\n",
    "    wordcloud = WordCloud().generate(text) # Plot wordcloud using WordCloud function\n",
    "    \n",
    "    #%matplotlib inline # plot the graph in the same window\n",
    "    \n",
    "    fig = plt.figure(figsize = (10,12)) # set the figure margins\n",
    "    plot = plt.imshow(wordcloud) # show the plot\n",
    "    return plot\n",
    "\n",
    "# Function to return stopwords\n",
    "def stopwordcount(plist):\n",
    "    return sum(plist, [])\n"
   ]
  },
  {
   "cell_type": "code",
   "execution_count": 20,
   "metadata": {},
   "outputs": [
    {
     "data": {
      "text/plain": [
       "'compensation not that great'"
      ]
     },
     "execution_count": 20,
     "metadata": {},
     "output_type": "execute_result"
    }
   ],
   "source": [
    "clean_review(\"Compensation123,. is 999 ???$not that great!!!\\r\\r\")"
   ]
  },
  {
   "cell_type": "code",
   "execution_count": 21,
   "metadata": {},
   "outputs": [
    {
     "data": {
      "text/plain": [
       "['is', 'that', 'not', 'or']"
      ]
     },
     "execution_count": 21,
     "metadata": {},
     "output_type": "execute_result"
    }
   ],
   "source": [
    "stop_words(\"Compensation is not or  or that great\")"
   ]
  },
  {
   "cell_type": "code",
   "execution_count": 22,
   "metadata": {},
   "outputs": [
    {
     "data": {
      "text/html": [
       "<div>\n",
       "<style scoped>\n",
       "    .dataframe tbody tr th:only-of-type {\n",
       "        vertical-align: middle;\n",
       "    }\n",
       "\n",
       "    .dataframe tbody tr th {\n",
       "        vertical-align: top;\n",
       "    }\n",
       "\n",
       "    .dataframe thead th {\n",
       "        text-align: right;\n",
       "    }\n",
       "</style>\n",
       "<table border=\"1\" class=\"dataframe\">\n",
       "  <thead>\n",
       "    <tr style=\"text-align: right;\">\n",
       "      <th></th>\n",
       "      <th>Pros</th>\n",
       "    </tr>\n",
       "  </thead>\n",
       "  <tbody>\n",
       "    <tr>\n",
       "      <th>0</th>\n",
       "      <td>A very good company, working environment is ve...</td>\n",
       "    </tr>\n",
       "    <tr>\n",
       "      <th>1</th>\n",
       "      <td>Good working environment in Bangalore</td>\n",
       "    </tr>\n",
       "    <tr>\n",
       "      <th>2</th>\n",
       "      <td>it has good work environment</td>\n",
       "    </tr>\n",
       "    <tr>\n",
       "      <th>3</th>\n",
       "      <td>Company is good  to work .\\n\\nWork life balance .</td>\n",
       "    </tr>\n",
       "    <tr>\n",
       "      <th>4</th>\n",
       "      <td>Equality among the colleagues ,Stress free env...</td>\n",
       "    </tr>\n",
       "  </tbody>\n",
       "</table>\n",
       "</div>"
      ],
      "text/plain": [
       "                                                Pros\n",
       "0  A very good company, working environment is ve...\n",
       "1              Good working environment in Bangalore\n",
       "2                       it has good work environment\n",
       "3  Company is good  to work .\\n\\nWork life balance .\n",
       "4  Equality among the colleagues ,Stress free env..."
      ]
     },
     "execution_count": 22,
     "metadata": {},
     "output_type": "execute_result"
    }
   ],
   "source": [
    "prosdf.head()"
   ]
  },
  {
   "cell_type": "code",
   "execution_count": 23,
   "metadata": {},
   "outputs": [
    {
     "data": {
      "text/html": [
       "<div>\n",
       "<style scoped>\n",
       "    .dataframe tbody tr th:only-of-type {\n",
       "        vertical-align: middle;\n",
       "    }\n",
       "\n",
       "    .dataframe tbody tr th {\n",
       "        vertical-align: top;\n",
       "    }\n",
       "\n",
       "    .dataframe thead th {\n",
       "        text-align: right;\n",
       "    }\n",
       "</style>\n",
       "<table border=\"1\" class=\"dataframe\">\n",
       "  <thead>\n",
       "    <tr style=\"text-align: right;\">\n",
       "      <th></th>\n",
       "      <th>Pros</th>\n",
       "    </tr>\n",
       "  </thead>\n",
       "  <tbody>\n",
       "    <tr>\n",
       "      <th>1360</th>\n",
       "      <td>Learn sql and some business tactic . But bette...</td>\n",
       "    </tr>\n",
       "    <tr>\n",
       "      <th>1361</th>\n",
       "      <td>Great pace to work. Should invest more on hr p...</td>\n",
       "    </tr>\n",
       "    <tr>\n",
       "      <th>1362</th>\n",
       "      <td>Good working environment\\n\\nGood Opportunities...</td>\n",
       "    </tr>\n",
       "    <tr>\n",
       "      <th>1363</th>\n",
       "      <td>More freedom on your work. Individual efforts ...</td>\n",
       "    </tr>\n",
       "    <tr>\n",
       "      <th>1364</th>\n",
       "      <td>No Peer Pressure\\n\\nHighly Professional Enviro...</td>\n",
       "    </tr>\n",
       "  </tbody>\n",
       "</table>\n",
       "</div>"
      ],
      "text/plain": [
       "                                                   Pros\n",
       "1360  Learn sql and some business tactic . But bette...\n",
       "1361  Great pace to work. Should invest more on hr p...\n",
       "1362  Good working environment\\n\\nGood Opportunities...\n",
       "1363  More freedom on your work. Individual efforts ...\n",
       "1364  No Peer Pressure\\n\\nHighly Professional Enviro..."
      ]
     },
     "execution_count": 23,
     "metadata": {},
     "output_type": "execute_result"
    }
   ],
   "source": [
    "prosdf.tail()"
   ]
  },
  {
   "cell_type": "code",
   "execution_count": 24,
   "metadata": {},
   "outputs": [
    {
     "data": {
      "text/html": [
       "<div>\n",
       "<style scoped>\n",
       "    .dataframe tbody tr th:only-of-type {\n",
       "        vertical-align: middle;\n",
       "    }\n",
       "\n",
       "    .dataframe tbody tr th {\n",
       "        vertical-align: top;\n",
       "    }\n",
       "\n",
       "    .dataframe thead th {\n",
       "        text-align: right;\n",
       "    }\n",
       "</style>\n",
       "<table border=\"1\" class=\"dataframe\">\n",
       "  <thead>\n",
       "    <tr style=\"text-align: right;\">\n",
       "      <th></th>\n",
       "      <th>Cons</th>\n",
       "    </tr>\n",
       "  </thead>\n",
       "  <tbody>\n",
       "    <tr>\n",
       "      <th>0</th>\n",
       "      <td>Paywise iit is very less</td>\n",
       "    </tr>\n",
       "    <tr>\n",
       "      <th>1</th>\n",
       "      <td>compensation is not that great</td>\n",
       "    </tr>\n",
       "    <tr>\n",
       "      <th>2</th>\n",
       "      <td>they do not have good opportunities any more i...</td>\n",
       "    </tr>\n",
       "    <tr>\n",
       "      <th>3</th>\n",
       "      <td>Very less hike now a days .\\n\\nAnnual variable...</td>\n",
       "    </tr>\n",
       "    <tr>\n",
       "      <th>4</th>\n",
       "      <td>I would say I don't find any cons in accent</td>\n",
       "    </tr>\n",
       "  </tbody>\n",
       "</table>\n",
       "</div>"
      ],
      "text/plain": [
       "                                                Cons\n",
       "0                           Paywise iit is very less\n",
       "1                     compensation is not that great\n",
       "2  they do not have good opportunities any more i...\n",
       "3  Very less hike now a days .\\n\\nAnnual variable...\n",
       "4        I would say I don't find any cons in accent"
      ]
     },
     "execution_count": 24,
     "metadata": {},
     "output_type": "execute_result"
    }
   ],
   "source": [
    "consdf.head()"
   ]
  },
  {
   "cell_type": "code",
   "execution_count": 25,
   "metadata": {},
   "outputs": [
    {
     "data": {
      "text/html": [
       "<div>\n",
       "<style scoped>\n",
       "    .dataframe tbody tr th:only-of-type {\n",
       "        vertical-align: middle;\n",
       "    }\n",
       "\n",
       "    .dataframe tbody tr th {\n",
       "        vertical-align: top;\n",
       "    }\n",
       "\n",
       "    .dataframe thead th {\n",
       "        text-align: right;\n",
       "    }\n",
       "</style>\n",
       "<table border=\"1\" class=\"dataframe\">\n",
       "  <thead>\n",
       "    <tr style=\"text-align: right;\">\n",
       "      <th></th>\n",
       "      <th>Cons</th>\n",
       "    </tr>\n",
       "  </thead>\n",
       "  <tbody>\n",
       "    <tr>\n",
       "      <th>1360</th>\n",
       "      <td>Only above thing. Nothing else you can have he...</td>\n",
       "    </tr>\n",
       "    <tr>\n",
       "      <th>1361</th>\n",
       "      <td>None that I can think of</td>\n",
       "    </tr>\n",
       "    <tr>\n",
       "      <th>1362</th>\n",
       "      <td>1. Salary hikes are not good\\n\\n2. No Work lif...</td>\n",
       "    </tr>\n",
       "    <tr>\n",
       "      <th>1363</th>\n",
       "      <td>Too individualistic. Individual efforts are co...</td>\n",
       "    </tr>\n",
       "    <tr>\n",
       "      <th>1364</th>\n",
       "      <td>Less Pay Hikes\\n\\nLess learning and growth</td>\n",
       "    </tr>\n",
       "  </tbody>\n",
       "</table>\n",
       "</div>"
      ],
      "text/plain": [
       "                                                   Cons\n",
       "1360  Only above thing. Nothing else you can have he...\n",
       "1361                           None that I can think of\n",
       "1362  1. Salary hikes are not good\\n\\n2. No Work lif...\n",
       "1363  Too individualistic. Individual efforts are co...\n",
       "1364         Less Pay Hikes\\n\\nLess learning and growth"
      ]
     },
     "execution_count": 25,
     "metadata": {},
     "output_type": "execute_result"
    }
   ],
   "source": [
    "consdf.tail()"
   ]
  },
  {
   "cell_type": "code",
   "execution_count": 26,
   "metadata": {},
   "outputs": [],
   "source": [
    "# Identify stop words in the prosdf data\n",
    "prosdf['PreCleanStopWords'] = prosdf['Pros'].apply(lambda x: stop_words(x))"
   ]
  },
  {
   "cell_type": "code",
   "execution_count": 27,
   "metadata": {},
   "outputs": [
    {
     "data": {
      "text/html": [
       "<div>\n",
       "<style scoped>\n",
       "    .dataframe tbody tr th:only-of-type {\n",
       "        vertical-align: middle;\n",
       "    }\n",
       "\n",
       "    .dataframe tbody tr th {\n",
       "        vertical-align: top;\n",
       "    }\n",
       "\n",
       "    .dataframe thead th {\n",
       "        text-align: right;\n",
       "    }\n",
       "</style>\n",
       "<table border=\"1\" class=\"dataframe\">\n",
       "  <thead>\n",
       "    <tr style=\"text-align: right;\">\n",
       "      <th></th>\n",
       "      <th>Pros</th>\n",
       "      <th>PreCleanStopWords</th>\n",
       "    </tr>\n",
       "  </thead>\n",
       "  <tbody>\n",
       "    <tr>\n",
       "      <th>0</th>\n",
       "      <td>A very good company, working environment is ve...</td>\n",
       "      <td>[is, as, other, a, to, very, and]</td>\n",
       "    </tr>\n",
       "    <tr>\n",
       "      <th>1</th>\n",
       "      <td>Good working environment in Bangalore</td>\n",
       "      <td>[in]</td>\n",
       "    </tr>\n",
       "    <tr>\n",
       "      <th>2</th>\n",
       "      <td>it has good work environment</td>\n",
       "      <td>[it, has]</td>\n",
       "    </tr>\n",
       "    <tr>\n",
       "      <th>3</th>\n",
       "      <td>Company is good  to work .\\n\\nWork life balance .</td>\n",
       "      <td>[is, to]</td>\n",
       "    </tr>\n",
       "    <tr>\n",
       "      <th>4</th>\n",
       "      <td>Equality among the colleagues ,Stress free env...</td>\n",
       "      <td>[the]</td>\n",
       "    </tr>\n",
       "  </tbody>\n",
       "</table>\n",
       "</div>"
      ],
      "text/plain": [
       "                                                Pros  \\\n",
       "0  A very good company, working environment is ve...   \n",
       "1              Good working environment in Bangalore   \n",
       "2                       it has good work environment   \n",
       "3  Company is good  to work .\\n\\nWork life balance .   \n",
       "4  Equality among the colleagues ,Stress free env...   \n",
       "\n",
       "                   PreCleanStopWords  \n",
       "0  [is, as, other, a, to, very, and]  \n",
       "1                               [in]  \n",
       "2                          [it, has]  \n",
       "3                           [is, to]  \n",
       "4                              [the]  "
      ]
     },
     "execution_count": 27,
     "metadata": {},
     "output_type": "execute_result"
    }
   ],
   "source": [
    "prosdf.head()"
   ]
  },
  {
   "cell_type": "code",
   "execution_count": 28,
   "metadata": {},
   "outputs": [],
   "source": [
    "# Clean the prosdf data\n",
    "prosdf['CleanedReview'] = prosdf['Pros'].apply(lambda x: clean_review(x))"
   ]
  },
  {
   "cell_type": "code",
   "execution_count": 29,
   "metadata": {},
   "outputs": [
    {
     "data": {
      "text/html": [
       "<div>\n",
       "<style scoped>\n",
       "    .dataframe tbody tr th:only-of-type {\n",
       "        vertical-align: middle;\n",
       "    }\n",
       "\n",
       "    .dataframe tbody tr th {\n",
       "        vertical-align: top;\n",
       "    }\n",
       "\n",
       "    .dataframe thead th {\n",
       "        text-align: right;\n",
       "    }\n",
       "</style>\n",
       "<table border=\"1\" class=\"dataframe\">\n",
       "  <thead>\n",
       "    <tr style=\"text-align: right;\">\n",
       "      <th></th>\n",
       "      <th>Pros</th>\n",
       "      <th>PreCleanStopWords</th>\n",
       "      <th>CleanedReview</th>\n",
       "    </tr>\n",
       "  </thead>\n",
       "  <tbody>\n",
       "    <tr>\n",
       "      <th>0</th>\n",
       "      <td>A very good company, working environment is ve...</td>\n",
       "      <td>[is, as, other, a, to, very, and]</td>\n",
       "      <td>very good company working environment very goo...</td>\n",
       "    </tr>\n",
       "    <tr>\n",
       "      <th>1</th>\n",
       "      <td>Good working environment in Bangalore</td>\n",
       "      <td>[in]</td>\n",
       "      <td>good working environment bangalore</td>\n",
       "    </tr>\n",
       "    <tr>\n",
       "      <th>2</th>\n",
       "      <td>it has good work environment</td>\n",
       "      <td>[it, has]</td>\n",
       "      <td>has good work environment</td>\n",
       "    </tr>\n",
       "    <tr>\n",
       "      <th>3</th>\n",
       "      <td>Company is good  to work .\\n\\nWork life balance .</td>\n",
       "      <td>[is, to]</td>\n",
       "      <td>company good work work life balance</td>\n",
       "    </tr>\n",
       "    <tr>\n",
       "      <th>4</th>\n",
       "      <td>Equality among the colleagues ,Stress free env...</td>\n",
       "      <td>[the]</td>\n",
       "      <td>equality among the colleagues stress free envi...</td>\n",
       "    </tr>\n",
       "  </tbody>\n",
       "</table>\n",
       "</div>"
      ],
      "text/plain": [
       "                                                Pros  \\\n",
       "0  A very good company, working environment is ve...   \n",
       "1              Good working environment in Bangalore   \n",
       "2                       it has good work environment   \n",
       "3  Company is good  to work .\\n\\nWork life balance .   \n",
       "4  Equality among the colleagues ,Stress free env...   \n",
       "\n",
       "                   PreCleanStopWords  \\\n",
       "0  [is, as, other, a, to, very, and]   \n",
       "1                               [in]   \n",
       "2                          [it, has]   \n",
       "3                           [is, to]   \n",
       "4                              [the]   \n",
       "\n",
       "                                       CleanedReview  \n",
       "0  very good company working environment very goo...  \n",
       "1                 good working environment bangalore  \n",
       "2                          has good work environment  \n",
       "3                company good work work life balance  \n",
       "4  equality among the colleagues stress free envi...  "
      ]
     },
     "execution_count": 29,
     "metadata": {},
     "output_type": "execute_result"
    }
   ],
   "source": [
    "prosdf.head()"
   ]
  },
  {
   "cell_type": "code",
   "execution_count": 30,
   "metadata": {},
   "outputs": [
    {
     "data": {
      "text/html": [
       "<div>\n",
       "<style scoped>\n",
       "    .dataframe tbody tr th:only-of-type {\n",
       "        vertical-align: middle;\n",
       "    }\n",
       "\n",
       "    .dataframe tbody tr th {\n",
       "        vertical-align: top;\n",
       "    }\n",
       "\n",
       "    .dataframe thead th {\n",
       "        text-align: right;\n",
       "    }\n",
       "</style>\n",
       "<table border=\"1\" class=\"dataframe\">\n",
       "  <thead>\n",
       "    <tr style=\"text-align: right;\">\n",
       "      <th></th>\n",
       "      <th>Pros</th>\n",
       "      <th>PreCleanStopWords</th>\n",
       "      <th>CleanedReview</th>\n",
       "    </tr>\n",
       "  </thead>\n",
       "  <tbody>\n",
       "    <tr>\n",
       "      <th>1360</th>\n",
       "      <td>Learn sql and some business tactic . But bette...</td>\n",
       "      <td>[to, but, and, some]</td>\n",
       "      <td>learn sql and some business tactic but better ...</td>\n",
       "    </tr>\n",
       "    <tr>\n",
       "      <th>1361</th>\n",
       "      <td>Great pace to work. Should invest more on hr p...</td>\n",
       "      <td>[more, to, should, on]</td>\n",
       "      <td>great pace work should invest more policies wo...</td>\n",
       "    </tr>\n",
       "    <tr>\n",
       "      <th>1362</th>\n",
       "      <td>Good working environment\\n\\nGood Opportunities...</td>\n",
       "      <td>[for]</td>\n",
       "      <td>good working environment good opportunities fo...</td>\n",
       "    </tr>\n",
       "    <tr>\n",
       "      <th>1363</th>\n",
       "      <td>More freedom on your work. Individual efforts ...</td>\n",
       "      <td>[are, more, on, your]</td>\n",
       "      <td>more freedom your work individual efforts are ...</td>\n",
       "    </tr>\n",
       "    <tr>\n",
       "      <th>1364</th>\n",
       "      <td>No Peer Pressure\\n\\nHighly Professional Enviro...</td>\n",
       "      <td>[no, for]</td>\n",
       "      <td>peer pressure highly professional environment ...</td>\n",
       "    </tr>\n",
       "  </tbody>\n",
       "</table>\n",
       "</div>"
      ],
      "text/plain": [
       "                                                   Pros  \\\n",
       "1360  Learn sql and some business tactic . But bette...   \n",
       "1361  Great pace to work. Should invest more on hr p...   \n",
       "1362  Good working environment\\n\\nGood Opportunities...   \n",
       "1363  More freedom on your work. Individual efforts ...   \n",
       "1364  No Peer Pressure\\n\\nHighly Professional Enviro...   \n",
       "\n",
       "           PreCleanStopWords  \\\n",
       "1360    [to, but, and, some]   \n",
       "1361  [more, to, should, on]   \n",
       "1362                   [for]   \n",
       "1363   [are, more, on, your]   \n",
       "1364               [no, for]   \n",
       "\n",
       "                                          CleanedReview  \n",
       "1360  learn sql and some business tactic but better ...  \n",
       "1361  great pace work should invest more policies wo...  \n",
       "1362  good working environment good opportunities fo...  \n",
       "1363  more freedom your work individual efforts are ...  \n",
       "1364  peer pressure highly professional environment ...  "
      ]
     },
     "execution_count": 30,
     "metadata": {},
     "output_type": "execute_result"
    }
   ],
   "source": [
    "prosdf.tail()"
   ]
  },
  {
   "cell_type": "code",
   "execution_count": 31,
   "metadata": {},
   "outputs": [],
   "source": [
    "# Identify stop words in cleaned data\n",
    "prosdf['PostCleanStopWords'] = prosdf['CleanedReview'].apply(lambda x: stop_words(x))"
   ]
  },
  {
   "cell_type": "code",
   "execution_count": 32,
   "metadata": {},
   "outputs": [
    {
     "data": {
      "text/html": [
       "<div>\n",
       "<style scoped>\n",
       "    .dataframe tbody tr th:only-of-type {\n",
       "        vertical-align: middle;\n",
       "    }\n",
       "\n",
       "    .dataframe tbody tr th {\n",
       "        vertical-align: top;\n",
       "    }\n",
       "\n",
       "    .dataframe thead th {\n",
       "        text-align: right;\n",
       "    }\n",
       "</style>\n",
       "<table border=\"1\" class=\"dataframe\">\n",
       "  <thead>\n",
       "    <tr style=\"text-align: right;\">\n",
       "      <th></th>\n",
       "      <th>Pros</th>\n",
       "      <th>PreCleanStopWords</th>\n",
       "      <th>CleanedReview</th>\n",
       "      <th>PostCleanStopWords</th>\n",
       "    </tr>\n",
       "  </thead>\n",
       "  <tbody>\n",
       "    <tr>\n",
       "      <th>0</th>\n",
       "      <td>A very good company, working environment is ve...</td>\n",
       "      <td>[is, as, other, a, to, very, and]</td>\n",
       "      <td>very good company working environment very goo...</td>\n",
       "      <td>[very, other, and]</td>\n",
       "    </tr>\n",
       "    <tr>\n",
       "      <th>1</th>\n",
       "      <td>Good working environment in Bangalore</td>\n",
       "      <td>[in]</td>\n",
       "      <td>good working environment bangalore</td>\n",
       "      <td>[]</td>\n",
       "    </tr>\n",
       "    <tr>\n",
       "      <th>2</th>\n",
       "      <td>it has good work environment</td>\n",
       "      <td>[it, has]</td>\n",
       "      <td>has good work environment</td>\n",
       "      <td>[has]</td>\n",
       "    </tr>\n",
       "    <tr>\n",
       "      <th>3</th>\n",
       "      <td>Company is good  to work .\\n\\nWork life balance .</td>\n",
       "      <td>[is, to]</td>\n",
       "      <td>company good work work life balance</td>\n",
       "      <td>[]</td>\n",
       "    </tr>\n",
       "    <tr>\n",
       "      <th>4</th>\n",
       "      <td>Equality among the colleagues ,Stress free env...</td>\n",
       "      <td>[the]</td>\n",
       "      <td>equality among the colleagues stress free envi...</td>\n",
       "      <td>[the]</td>\n",
       "    </tr>\n",
       "  </tbody>\n",
       "</table>\n",
       "</div>"
      ],
      "text/plain": [
       "                                                Pros  \\\n",
       "0  A very good company, working environment is ve...   \n",
       "1              Good working environment in Bangalore   \n",
       "2                       it has good work environment   \n",
       "3  Company is good  to work .\\n\\nWork life balance .   \n",
       "4  Equality among the colleagues ,Stress free env...   \n",
       "\n",
       "                   PreCleanStopWords  \\\n",
       "0  [is, as, other, a, to, very, and]   \n",
       "1                               [in]   \n",
       "2                          [it, has]   \n",
       "3                           [is, to]   \n",
       "4                              [the]   \n",
       "\n",
       "                                       CleanedReview  PostCleanStopWords  \n",
       "0  very good company working environment very goo...  [very, other, and]  \n",
       "1                 good working environment bangalore                  []  \n",
       "2                          has good work environment               [has]  \n",
       "3                company good work work life balance                  []  \n",
       "4  equality among the colleagues stress free envi...               [the]  "
      ]
     },
     "execution_count": 32,
     "metadata": {},
     "output_type": "execute_result"
    }
   ],
   "source": [
    "prosdf.head()"
   ]
  },
  {
   "cell_type": "code",
   "execution_count": 33,
   "metadata": {},
   "outputs": [
    {
     "data": {
      "text/html": [
       "<div>\n",
       "<style scoped>\n",
       "    .dataframe tbody tr th:only-of-type {\n",
       "        vertical-align: middle;\n",
       "    }\n",
       "\n",
       "    .dataframe tbody tr th {\n",
       "        vertical-align: top;\n",
       "    }\n",
       "\n",
       "    .dataframe thead th {\n",
       "        text-align: right;\n",
       "    }\n",
       "</style>\n",
       "<table border=\"1\" class=\"dataframe\">\n",
       "  <thead>\n",
       "    <tr style=\"text-align: right;\">\n",
       "      <th></th>\n",
       "      <th>Pros</th>\n",
       "      <th>PreCleanStopWords</th>\n",
       "      <th>CleanedReview</th>\n",
       "      <th>PostCleanStopWords</th>\n",
       "    </tr>\n",
       "  </thead>\n",
       "  <tbody>\n",
       "    <tr>\n",
       "      <th>1360</th>\n",
       "      <td>Learn sql and some business tactic . But bette...</td>\n",
       "      <td>[to, but, and, some]</td>\n",
       "      <td>learn sql and some business tactic but better ...</td>\n",
       "      <td>[but, and, some]</td>\n",
       "    </tr>\n",
       "    <tr>\n",
       "      <th>1361</th>\n",
       "      <td>Great pace to work. Should invest more on hr p...</td>\n",
       "      <td>[more, to, should, on]</td>\n",
       "      <td>great pace work should invest more policies wo...</td>\n",
       "      <td>[more, should]</td>\n",
       "    </tr>\n",
       "    <tr>\n",
       "      <th>1362</th>\n",
       "      <td>Good working environment\\n\\nGood Opportunities...</td>\n",
       "      <td>[for]</td>\n",
       "      <td>good working environment good opportunities fo...</td>\n",
       "      <td>[for]</td>\n",
       "    </tr>\n",
       "    <tr>\n",
       "      <th>1363</th>\n",
       "      <td>More freedom on your work. Individual efforts ...</td>\n",
       "      <td>[are, more, on, your]</td>\n",
       "      <td>more freedom your work individual efforts are ...</td>\n",
       "      <td>[are, more, your]</td>\n",
       "    </tr>\n",
       "    <tr>\n",
       "      <th>1364</th>\n",
       "      <td>No Peer Pressure\\n\\nHighly Professional Enviro...</td>\n",
       "      <td>[no, for]</td>\n",
       "      <td>peer pressure highly professional environment ...</td>\n",
       "      <td>[for]</td>\n",
       "    </tr>\n",
       "  </tbody>\n",
       "</table>\n",
       "</div>"
      ],
      "text/plain": [
       "                                                   Pros  \\\n",
       "1360  Learn sql and some business tactic . But bette...   \n",
       "1361  Great pace to work. Should invest more on hr p...   \n",
       "1362  Good working environment\\n\\nGood Opportunities...   \n",
       "1363  More freedom on your work. Individual efforts ...   \n",
       "1364  No Peer Pressure\\n\\nHighly Professional Enviro...   \n",
       "\n",
       "           PreCleanStopWords  \\\n",
       "1360    [to, but, and, some]   \n",
       "1361  [more, to, should, on]   \n",
       "1362                   [for]   \n",
       "1363   [are, more, on, your]   \n",
       "1364               [no, for]   \n",
       "\n",
       "                                          CleanedReview PostCleanStopWords  \n",
       "1360  learn sql and some business tactic but better ...   [but, and, some]  \n",
       "1361  great pace work should invest more policies wo...     [more, should]  \n",
       "1362  good working environment good opportunities fo...              [for]  \n",
       "1363  more freedom your work individual efforts are ...  [are, more, your]  \n",
       "1364  peer pressure highly professional environment ...              [for]  "
      ]
     },
     "execution_count": 33,
     "metadata": {},
     "output_type": "execute_result"
    }
   ],
   "source": [
    "prosdf.tail()"
   ]
  },
  {
   "cell_type": "code",
   "execution_count": 34,
   "metadata": {},
   "outputs": [],
   "source": [
    "# Clean the data, identify stop words in original data and clean data in consdf\n",
    "consdf['PreCleanStopWords'] = consdf['Cons'].apply(lambda x: stop_words(x))\n",
    "consdf['CleanedReview'] = consdf['Cons'].apply(lambda x: clean_review(x))\n",
    "consdf['PostCleanStopWords'] = consdf['CleanedReview'].apply(lambda x: stop_words(x))"
   ]
  },
  {
   "cell_type": "code",
   "execution_count": 35,
   "metadata": {},
   "outputs": [
    {
     "data": {
      "text/plain": [
       "['very', 'other', 'and', 'has', 'the', 'this', 'will', 'you', 'and', 'you']"
      ]
     },
     "execution_count": 35,
     "metadata": {},
     "output_type": "execute_result"
    }
   ],
   "source": [
    "# Extract stop words from prosdf data\n",
    "stopWords = stopwordcount(prosdf['PostCleanStopWords'])\n",
    "stopWords[0:10]"
   ]
  },
  {
   "cell_type": "code",
   "execution_count": 36,
   "metadata": {},
   "outputs": [
    {
     "data": {
      "image/png": "[encoded data removed]",
      "text/plain": [
       "<Figure size 576x432 with 1 Axes>"
      ]
     },
     "metadata": {
      "needs_background": "light"
     },
     "output_type": "display_data"
    }
   ],
   "source": [
    "wordcloud = WordCloud().generate(str(stopWords)) # Plot wordcloud using WordCloud function\n",
    "    \n",
    "#%matplotlib inline # plot the graph in the same window\n",
    "    \n",
    "fig = plt.figure(figsize = (8,6)) # set the figure margins\n",
    "plot = plt.imshow(wordcloud) # show the plot"
   ]
  },
  {
   "cell_type": "code",
   "execution_count": 37,
   "metadata": {
    "scrolled": true
   },
   "outputs": [
    {
     "data": {
      "text/plain": [
       "Counter({'very': 106,\n",
       "         'other': 37,\n",
       "         'and': 399,\n",
       "         'has': 31,\n",
       "         'the': 193,\n",
       "         'this': 42,\n",
       "         'will': 64,\n",
       "         'you': 177,\n",
       "         'are': 175,\n",
       "         'more': 39,\n",
       "         'been': 13,\n",
       "         'yourself': 3,\n",
       "         'with': 139,\n",
       "         'not': 51,\n",
       "         'for': 261,\n",
       "         'from': 73,\n",
       "         'have': 73,\n",
       "         'can': 85,\n",
       "         'their': 16,\n",
       "         'only': 34,\n",
       "         'here': 24,\n",
       "         'then': 12,\n",
       "         'your': 62,\n",
       "         'who': 21,\n",
       "         'above': 3,\n",
       "         'but': 49,\n",
       "         'they': 37,\n",
       "         'there': 42,\n",
       "         'its': 31,\n",
       "         'was': 30,\n",
       "         'after': 12,\n",
       "         'than': 21,\n",
       "         'all': 46,\n",
       "         'over': 6,\n",
       "         'don': 10,\n",
       "         'too': 14,\n",
       "         'being': 6,\n",
       "         'while': 9,\n",
       "         'had': 16,\n",
       "         'having': 7,\n",
       "         'during': 3,\n",
       "         'any': 27,\n",
       "         'once': 1,\n",
       "         'themselves': 1,\n",
       "         'doing': 5,\n",
       "         'our': 7,\n",
       "         'that': 31,\n",
       "         'because': 8,\n",
       "         'when': 15,\n",
       "         'such': 8,\n",
       "         'what': 7,\n",
       "         'how': 4,\n",
       "         'some': 38,\n",
       "         'same': 3,\n",
       "         'did': 2,\n",
       "         'most': 19,\n",
       "         'again': 6,\n",
       "         'them': 6,\n",
       "         'which': 23,\n",
       "         'few': 9,\n",
       "         'now': 7,\n",
       "         'those': 5,\n",
       "         'both': 2,\n",
       "         'between': 4,\n",
       "         'each': 2,\n",
       "         'out': 10,\n",
       "         'through': 2,\n",
       "         'these': 1,\n",
       "         'about': 17,\n",
       "         'own': 3,\n",
       "         'were': 9,\n",
       "         'won': 2,\n",
       "         'until': 3,\n",
       "         'why': 2,\n",
       "         'where': 9,\n",
       "         'doesn': 1,\n",
       "         'couldn': 3,\n",
       "         'before': 2,\n",
       "         'just': 10,\n",
       "         'wasn': 1,\n",
       "         'didn': 1,\n",
       "         'off': 3,\n",
       "         'under': 3,\n",
       "         'into': 6,\n",
       "         'should': 3,\n",
       "         'below': 2,\n",
       "         'does': 1,\n",
       "         'down': 1,\n",
       "         'haven': 1,\n",
       "         'ourselves': 1})"
      ]
     },
     "execution_count": 37,
     "metadata": {},
     "output_type": "execute_result"
    }
   ],
   "source": [
    "Counter(stopWords)"
   ]
  },
  {
   "cell_type": "code",
   "execution_count": 38,
   "metadata": {},
   "outputs": [],
   "source": [
    "# Function to identify  no stop words\n",
    "def no_stop_words(review):\n",
    "    words = review.lower().split() # split sentence into words\n",
    "    stops = set(stopwords.words(\"english\")) # import stop words from nltk\n",
    "    stop_words = [w for w in words if w not in stops] # identify stop words from the sentence\n",
    "    return(list(set(stop_words)))\n",
    "\n",
    "# Function to identify  no stop words\n",
    "def clean_stop_words(review):\n",
    "    words = review.lower().split() # split sentence into words\n",
    "    stops = set(stopwords.words(\"english\")) # import stop words from nltk\n",
    "    stop_words = [w for w in words if w not in stops] # identify stop words from the sentence\n",
    "    return(\" \".join(stop_words))\n"
   ]
  },
  {
   "cell_type": "code",
   "execution_count": 39,
   "metadata": {},
   "outputs": [
    {
     "data": {
      "text/html": [
       "<div>\n",
       "<style scoped>\n",
       "    .dataframe tbody tr th:only-of-type {\n",
       "        vertical-align: middle;\n",
       "    }\n",
       "\n",
       "    .dataframe tbody tr th {\n",
       "        vertical-align: top;\n",
       "    }\n",
       "\n",
       "    .dataframe thead th {\n",
       "        text-align: right;\n",
       "    }\n",
       "</style>\n",
       "<table border=\"1\" class=\"dataframe\">\n",
       "  <thead>\n",
       "    <tr style=\"text-align: right;\">\n",
       "      <th></th>\n",
       "      <th>Pros</th>\n",
       "      <th>PreCleanStopWords</th>\n",
       "      <th>CleanedReview</th>\n",
       "      <th>PostCleanStopWords</th>\n",
       "    </tr>\n",
       "  </thead>\n",
       "  <tbody>\n",
       "    <tr>\n",
       "      <th>0</th>\n",
       "      <td>A very good company, working environment is ve...</td>\n",
       "      <td>[is, as, other, a, to, very, and]</td>\n",
       "      <td>very good company working environment very goo...</td>\n",
       "      <td>[very, other, and]</td>\n",
       "    </tr>\n",
       "    <tr>\n",
       "      <th>1</th>\n",
       "      <td>Good working environment in Bangalore</td>\n",
       "      <td>[in]</td>\n",
       "      <td>good working environment bangalore</td>\n",
       "      <td>[]</td>\n",
       "    </tr>\n",
       "    <tr>\n",
       "      <th>2</th>\n",
       "      <td>it has good work environment</td>\n",
       "      <td>[it, has]</td>\n",
       "      <td>has good work environment</td>\n",
       "      <td>[has]</td>\n",
       "    </tr>\n",
       "    <tr>\n",
       "      <th>3</th>\n",
       "      <td>Company is good  to work .\\n\\nWork life balance .</td>\n",
       "      <td>[is, to]</td>\n",
       "      <td>company good work work life balance</td>\n",
       "      <td>[]</td>\n",
       "    </tr>\n",
       "    <tr>\n",
       "      <th>4</th>\n",
       "      <td>Equality among the colleagues ,Stress free env...</td>\n",
       "      <td>[the]</td>\n",
       "      <td>equality among the colleagues stress free envi...</td>\n",
       "      <td>[the]</td>\n",
       "    </tr>\n",
       "  </tbody>\n",
       "</table>\n",
       "</div>"
      ],
      "text/plain": [
       "                                                Pros  \\\n",
       "0  A very good company, working environment is ve...   \n",
       "1              Good working environment in Bangalore   \n",
       "2                       it has good work environment   \n",
       "3  Company is good  to work .\\n\\nWork life balance .   \n",
       "4  Equality among the colleagues ,Stress free env...   \n",
       "\n",
       "                   PreCleanStopWords  \\\n",
       "0  [is, as, other, a, to, very, and]   \n",
       "1                               [in]   \n",
       "2                          [it, has]   \n",
       "3                           [is, to]   \n",
       "4                              [the]   \n",
       "\n",
       "                                       CleanedReview  PostCleanStopWords  \n",
       "0  very good company working environment very goo...  [very, other, and]  \n",
       "1                 good working environment bangalore                  []  \n",
       "2                          has good work environment               [has]  \n",
       "3                company good work work life balance                  []  \n",
       "4  equality among the colleagues stress free envi...               [the]  "
      ]
     },
     "execution_count": 39,
     "metadata": {},
     "output_type": "execute_result"
    }
   ],
   "source": [
    "prosdf.head()"
   ]
  },
  {
   "cell_type": "code",
   "execution_count": 40,
   "metadata": {},
   "outputs": [],
   "source": [
    "# Remove stop words\n",
    "prosdf['stop_removed'] = prosdf['CleanedReview'].apply(lambda x: no_stop_words(x))\n",
    "consdf['stop_removed'] = consdf['CleanedReview'].apply(lambda x: no_stop_words(x))"
   ]
  },
  {
   "cell_type": "code",
   "execution_count": 41,
   "metadata": {},
   "outputs": [
    {
     "data": {
      "text/html": [
       "<div>\n",
       "<style scoped>\n",
       "    .dataframe tbody tr th:only-of-type {\n",
       "        vertical-align: middle;\n",
       "    }\n",
       "\n",
       "    .dataframe tbody tr th {\n",
       "        vertical-align: top;\n",
       "    }\n",
       "\n",
       "    .dataframe thead th {\n",
       "        text-align: right;\n",
       "    }\n",
       "</style>\n",
       "<table border=\"1\" class=\"dataframe\">\n",
       "  <thead>\n",
       "    <tr style=\"text-align: right;\">\n",
       "      <th></th>\n",
       "      <th>Pros</th>\n",
       "      <th>PreCleanStopWords</th>\n",
       "      <th>CleanedReview</th>\n",
       "      <th>PostCleanStopWords</th>\n",
       "      <th>stop_removed</th>\n",
       "    </tr>\n",
       "  </thead>\n",
       "  <tbody>\n",
       "    <tr>\n",
       "      <th>0</th>\n",
       "      <td>A very good company, working environment is ve...</td>\n",
       "      <td>[is, as, other, a, to, very, and]</td>\n",
       "      <td>very good company working environment very goo...</td>\n",
       "      <td>[very, other, and]</td>\n",
       "      <td>[work, friendly, environment, good, company, w...</td>\n",
       "    </tr>\n",
       "    <tr>\n",
       "      <th>1</th>\n",
       "      <td>Good working environment in Bangalore</td>\n",
       "      <td>[in]</td>\n",
       "      <td>good working environment bangalore</td>\n",
       "      <td>[]</td>\n",
       "      <td>[bangalore, environment, good, working]</td>\n",
       "    </tr>\n",
       "    <tr>\n",
       "      <th>2</th>\n",
       "      <td>it has good work environment</td>\n",
       "      <td>[it, has]</td>\n",
       "      <td>has good work environment</td>\n",
       "      <td>[has]</td>\n",
       "      <td>[work, environment, good]</td>\n",
       "    </tr>\n",
       "    <tr>\n",
       "      <th>3</th>\n",
       "      <td>Company is good  to work .\\n\\nWork life balance .</td>\n",
       "      <td>[is, to]</td>\n",
       "      <td>company good work work life balance</td>\n",
       "      <td>[]</td>\n",
       "      <td>[work, good, company, life, balance]</td>\n",
       "    </tr>\n",
       "    <tr>\n",
       "      <th>4</th>\n",
       "      <td>Equality among the colleagues ,Stress free env...</td>\n",
       "      <td>[the]</td>\n",
       "      <td>equality among the colleagues stress free envi...</td>\n",
       "      <td>[the]</td>\n",
       "      <td>[free, environment, colleagues, equality, stre...</td>\n",
       "    </tr>\n",
       "  </tbody>\n",
       "</table>\n",
       "</div>"
      ],
      "text/plain": [
       "                                                Pros  \\\n",
       "0  A very good company, working environment is ve...   \n",
       "1              Good working environment in Bangalore   \n",
       "2                       it has good work environment   \n",
       "3  Company is good  to work .\\n\\nWork life balance .   \n",
       "4  Equality among the colleagues ,Stress free env...   \n",
       "\n",
       "                   PreCleanStopWords  \\\n",
       "0  [is, as, other, a, to, very, and]   \n",
       "1                               [in]   \n",
       "2                          [it, has]   \n",
       "3                           [is, to]   \n",
       "4                              [the]   \n",
       "\n",
       "                                       CleanedReview  PostCleanStopWords  \\\n",
       "0  very good company working environment very goo...  [very, other, and]   \n",
       "1                 good working environment bangalore                  []   \n",
       "2                          has good work environment               [has]   \n",
       "3                company good work work life balance                  []   \n",
       "4  equality among the colleagues stress free envi...               [the]   \n",
       "\n",
       "                                        stop_removed  \n",
       "0  [work, friendly, environment, good, company, w...  \n",
       "1            [bangalore, environment, good, working]  \n",
       "2                          [work, environment, good]  \n",
       "3               [work, good, company, life, balance]  \n",
       "4  [free, environment, colleagues, equality, stre...  "
      ]
     },
     "execution_count": 41,
     "metadata": {},
     "output_type": "execute_result"
    }
   ],
   "source": [
    "prosdf.head()"
   ]
  },
  {
   "cell_type": "code",
   "execution_count": 42,
   "metadata": {},
   "outputs": [],
   "source": [
    "# Remove stop words and clean text\n",
    "prosdf['clean_text'] = prosdf['CleanedReview'].apply(lambda x: clean_stop_words(x))\n",
    "consdf['clean_text'] = consdf['CleanedReview'].apply(lambda x: clean_stop_words(x))\n"
   ]
  },
  {
   "cell_type": "code",
   "execution_count": 43,
   "metadata": {},
   "outputs": [
    {
     "data": {
      "text/html": [
       "<div>\n",
       "<style scoped>\n",
       "    .dataframe tbody tr th:only-of-type {\n",
       "        vertical-align: middle;\n",
       "    }\n",
       "\n",
       "    .dataframe tbody tr th {\n",
       "        vertical-align: top;\n",
       "    }\n",
       "\n",
       "    .dataframe thead th {\n",
       "        text-align: right;\n",
       "    }\n",
       "</style>\n",
       "<table border=\"1\" class=\"dataframe\">\n",
       "  <thead>\n",
       "    <tr style=\"text-align: right;\">\n",
       "      <th></th>\n",
       "      <th>Pros</th>\n",
       "      <th>PreCleanStopWords</th>\n",
       "      <th>CleanedReview</th>\n",
       "      <th>PostCleanStopWords</th>\n",
       "      <th>stop_removed</th>\n",
       "      <th>clean_text</th>\n",
       "    </tr>\n",
       "  </thead>\n",
       "  <tbody>\n",
       "    <tr>\n",
       "      <th>0</th>\n",
       "      <td>A very good company, working environment is ve...</td>\n",
       "      <td>[is, as, other, a, to, very, and]</td>\n",
       "      <td>very good company working environment very goo...</td>\n",
       "      <td>[very, other, and]</td>\n",
       "      <td>[work, friendly, environment, good, company, w...</td>\n",
       "      <td>good company working environment good friendly...</td>\n",
       "    </tr>\n",
       "    <tr>\n",
       "      <th>1</th>\n",
       "      <td>Good working environment in Bangalore</td>\n",
       "      <td>[in]</td>\n",
       "      <td>good working environment bangalore</td>\n",
       "      <td>[]</td>\n",
       "      <td>[bangalore, environment, good, working]</td>\n",
       "      <td>good working environment bangalore</td>\n",
       "    </tr>\n",
       "    <tr>\n",
       "      <th>2</th>\n",
       "      <td>it has good work environment</td>\n",
       "      <td>[it, has]</td>\n",
       "      <td>has good work environment</td>\n",
       "      <td>[has]</td>\n",
       "      <td>[work, environment, good]</td>\n",
       "      <td>good work environment</td>\n",
       "    </tr>\n",
       "    <tr>\n",
       "      <th>3</th>\n",
       "      <td>Company is good  to work .\\n\\nWork life balance .</td>\n",
       "      <td>[is, to]</td>\n",
       "      <td>company good work work life balance</td>\n",
       "      <td>[]</td>\n",
       "      <td>[work, good, company, life, balance]</td>\n",
       "      <td>company good work work life balance</td>\n",
       "    </tr>\n",
       "    <tr>\n",
       "      <th>4</th>\n",
       "      <td>Equality among the colleagues ,Stress free env...</td>\n",
       "      <td>[the]</td>\n",
       "      <td>equality among the colleagues stress free envi...</td>\n",
       "      <td>[the]</td>\n",
       "      <td>[free, environment, colleagues, equality, stre...</td>\n",
       "      <td>equality among colleagues stress free environment</td>\n",
       "    </tr>\n",
       "  </tbody>\n",
       "</table>\n",
       "</div>"
      ],
      "text/plain": [
       "                                                Pros  \\\n",
       "0  A very good company, working environment is ve...   \n",
       "1              Good working environment in Bangalore   \n",
       "2                       it has good work environment   \n",
       "3  Company is good  to work .\\n\\nWork life balance .   \n",
       "4  Equality among the colleagues ,Stress free env...   \n",
       "\n",
       "                   PreCleanStopWords  \\\n",
       "0  [is, as, other, a, to, very, and]   \n",
       "1                               [in]   \n",
       "2                          [it, has]   \n",
       "3                           [is, to]   \n",
       "4                              [the]   \n",
       "\n",
       "                                       CleanedReview  PostCleanStopWords  \\\n",
       "0  very good company working environment very goo...  [very, other, and]   \n",
       "1                 good working environment bangalore                  []   \n",
       "2                          has good work environment               [has]   \n",
       "3                company good work work life balance                  []   \n",
       "4  equality among the colleagues stress free envi...               [the]   \n",
       "\n",
       "                                        stop_removed  \\\n",
       "0  [work, friendly, environment, good, company, w...   \n",
       "1            [bangalore, environment, good, working]   \n",
       "2                          [work, environment, good]   \n",
       "3               [work, good, company, life, balance]   \n",
       "4  [free, environment, colleagues, equality, stre...   \n",
       "\n",
       "                                          clean_text  \n",
       "0  good company working environment good friendly...  \n",
       "1                 good working environment bangalore  \n",
       "2                              good work environment  \n",
       "3                company good work work life balance  \n",
       "4  equality among colleagues stress free environment  "
      ]
     },
     "execution_count": 43,
     "metadata": {},
     "output_type": "execute_result"
    }
   ],
   "source": [
    "prosdf.head()"
   ]
  },
  {
   "cell_type": "code",
   "execution_count": 44,
   "metadata": {},
   "outputs": [
    {
     "data": {
      "text/plain": [
       "<matplotlib.image.AxesImage at 0x1a564406ca0>"
      ]
     },
     "execution_count": 44,
     "metadata": {},
     "output_type": "execute_result"
    },
    {
     "data": {
      "image/png": "[encoded data removed]",
      "text/plain": [
       "<Figure size 720x864 with 1 Axes>"
      ]
     },
     "metadata": {
      "needs_background": "light"
     },
     "output_type": "display_data"
    }
   ],
   "source": [
    "# Word Cloud\n",
    "non_stopWords = stopwordcount(consdf['stop_removed'])\n",
    "#print(str(non_stopWords))\n",
    "plot_word_cloud(str(non_stopWords))"
   ]
  },
  {
   "cell_type": "code",
   "execution_count": 45,
   "metadata": {
    "scrolled": true
   },
   "outputs": [
    {
     "data": {
      "text/plain": [
       "Counter({'iit': 1,\n",
       "         'paywise': 1,\n",
       "         'less': 264,\n",
       "         'great': 16,\n",
       "         'compensation': 48,\n",
       "         'opportunities': 43,\n",
       "         'rpa': 1,\n",
       "         'good': 163,\n",
       "         'year': 26,\n",
       "         'pay': 93,\n",
       "         'leaving': 3,\n",
       "         'hike': 162,\n",
       "         'miss': 1,\n",
       "         'days': 16,\n",
       "         'variable': 30,\n",
       "         'annual': 25,\n",
       "         'find': 21,\n",
       "         'say': 14,\n",
       "         'cons': 71,\n",
       "         'accent': 46,\n",
       "         'would': 12,\n",
       "         'hikes': 87,\n",
       "         'salary': 236,\n",
       "         'growth': 94,\n",
       "         'centric': 5,\n",
       "         'employer': 6,\n",
       "         'company': 125,\n",
       "         'employee': 106,\n",
       "         'location': 35,\n",
       "         'projects': 111,\n",
       "         'limited': 24,\n",
       "         'chennai': 5,\n",
       "         'synchrony': 1,\n",
       "         'illiterate': 1,\n",
       "         'answer': 1,\n",
       "         'always': 16,\n",
       "         'employees': 88,\n",
       "         'think': 26,\n",
       "         'weekends': 7,\n",
       "         'sychrony': 1,\n",
       "         'come': 13,\n",
       "         'interview': 6,\n",
       "         'full': 7,\n",
       "         'project': 125,\n",
       "         'management': 179,\n",
       "         'also': 33,\n",
       "         'queries': 1,\n",
       "         'manager': 42,\n",
       "         'work': 260,\n",
       "         'voice': 2,\n",
       "         'available': 10,\n",
       "         'enough': 12,\n",
       "         'consumer': 1,\n",
       "         'problem': 8,\n",
       "         'maintain': 9,\n",
       "         'working': 81,\n",
       "         'burdened': 1,\n",
       "         'account': 10,\n",
       "         'time': 67,\n",
       "         'proper': 29,\n",
       "         'like': 46,\n",
       "         'completely': 6,\n",
       "         'call': 4,\n",
       "         'back': 8,\n",
       "         'much': 94,\n",
       "         'even': 58,\n",
       "         'two': 2,\n",
       "         'pick': 2,\n",
       "         'attitude': 8,\n",
       "         'people': 67,\n",
       "         'environment': 19,\n",
       "         'one': 42,\n",
       "         'tasks': 6,\n",
       "         'speak': 2,\n",
       "         'consider': 5,\n",
       "         'center': 1,\n",
       "         'assign': 1,\n",
       "         'questions': 1,\n",
       "         'know': 21,\n",
       "         'external': 2,\n",
       "         'answered': 1,\n",
       "         'coming': 4,\n",
       "         'resources': 13,\n",
       "         'worked': 7,\n",
       "         'emergency': 1,\n",
       "         'raise': 6,\n",
       "         'scope': 9,\n",
       "         'managers': 51,\n",
       "         'though': 12,\n",
       "         'situation': 5,\n",
       "         'aged': 1,\n",
       "         'internal': 24,\n",
       "         'bandwidth': 1,\n",
       "         'module': 1,\n",
       "         'want': 15,\n",
       "         'stay': 9,\n",
       "         'remove': 2,\n",
       "         'particularly': 3,\n",
       "         'behave': 4,\n",
       "         'depend': 7,\n",
       "         'politics': 60,\n",
       "         'select': 1,\n",
       "         'resource': 18,\n",
       "         'hrs': 24,\n",
       "         'partiality': 2,\n",
       "         'selected': 1,\n",
       "         'send': 4,\n",
       "         'details': 4,\n",
       "         'facing': 2,\n",
       "         'get': 84,\n",
       "         'predict': 1,\n",
       "         'perform': 4,\n",
       "         'ultimately': 1,\n",
       "         'appraisal': 41,\n",
       "         'timings': 18,\n",
       "         'hopeless': 2,\n",
       "         'getting': 26,\n",
       "         'persons': 5,\n",
       "         'current': 4,\n",
       "         'deserved': 1,\n",
       "         'paid': 11,\n",
       "         'considering': 3,\n",
       "         'expectations': 3,\n",
       "         'megre': 1,\n",
       "         'onsites': 4,\n",
       "         'promotions': 9,\n",
       "         'worst': 58,\n",
       "         'opportunity': 31,\n",
       "         'onsite': 57,\n",
       "         'bad': 66,\n",
       "         'pile': 1,\n",
       "         'poor': 89,\n",
       "         'technology': 28,\n",
       "         'new': 32,\n",
       "         'life': 66,\n",
       "         'depends': 28,\n",
       "         'increments': 24,\n",
       "         'balance': 63,\n",
       "         'moderate': 2,\n",
       "         'shift': 13,\n",
       "         'timing': 9,\n",
       "         'arrangement': 1,\n",
       "         'drop': 2,\n",
       "         'home': 26,\n",
       "         'facility': 10,\n",
       "         'food': 15,\n",
       "         'competition': 3,\n",
       "         'compared': 44,\n",
       "         'low': 111,\n",
       "         'place': 24,\n",
       "         'trade': 1,\n",
       "         'master': 4,\n",
       "         'really': 18,\n",
       "         'old': 10,\n",
       "         'legacy': 2,\n",
       "         'top': 12,\n",
       "         'sick': 4,\n",
       "         'plan': 3,\n",
       "         'respond': 3,\n",
       "         'difficult': 26,\n",
       "         'bcz': 1,\n",
       "         'providing': 2,\n",
       "         'recruitment': 4,\n",
       "         'distance': 4,\n",
       "         'long': 42,\n",
       "         'apart': 3,\n",
       "         'uan': 1,\n",
       "         'responsive': 2,\n",
       "         'travelling': 1,\n",
       "         'career': 39,\n",
       "         'leave': 21,\n",
       "         'horrible': 3,\n",
       "         'except': 4,\n",
       "         'create': 2,\n",
       "         'personal': 4,\n",
       "         'benefit': 3,\n",
       "         'everything': 19,\n",
       "         'team': 44,\n",
       "         'escalated': 3,\n",
       "         'traffic': 1,\n",
       "         'attractive': 1,\n",
       "         'spoiled': 1,\n",
       "         'movement': 3,\n",
       "         'another': 8,\n",
       "         'stick': 2,\n",
       "         'health': 4,\n",
       "         'gets': 7,\n",
       "         'need': 50,\n",
       "         'years': 25,\n",
       "         'tough': 5,\n",
       "         'lucky': 2,\n",
       "         'else': 9,\n",
       "         'recognition': 15,\n",
       "         'recognised': 1,\n",
       "         'feel': 6,\n",
       "         'make': 9,\n",
       "         'existing': 3,\n",
       "         'non': 16,\n",
       "         'cycle': 4,\n",
       "         'friendly': 33,\n",
       "         'hours': 58,\n",
       "         'organizations': 3,\n",
       "         'billability': 3,\n",
       "         'owns': 1,\n",
       "         'matters': 5,\n",
       "         'revenue': 2,\n",
       "         'commodity': 1,\n",
       "         'order': 3,\n",
       "         'policies': 55,\n",
       "         'monthly': 2,\n",
       "         'sale': 1,\n",
       "         'medical': 1,\n",
       "         'lop': 1,\n",
       "         'client': 42,\n",
       "         'well': 16,\n",
       "         'credit': 3,\n",
       "         'deduct': 1,\n",
       "         'policy': 40,\n",
       "         'mnc': 15,\n",
       "         'fresher': 18,\n",
       "         'compare': 12,\n",
       "         'bench': 43,\n",
       "         'short': 5,\n",
       "         'period': 42,\n",
       "         'term': 5,\n",
       "         'igate': 26,\n",
       "         'merger': 7,\n",
       "         'strict': 9,\n",
       "         'rather': 7,\n",
       "         'high': 27,\n",
       "         'performance': 19,\n",
       "         'superiors': 1,\n",
       "         'level': 32,\n",
       "         'appraisals': 17,\n",
       "         'based': 30,\n",
       "         'links': 1,\n",
       "         'micromanagement': 1,\n",
       "         'felt': 3,\n",
       "         'nothing': 51,\n",
       "         'divisions': 1,\n",
       "         'internally': 3,\n",
       "         'joining': 9,\n",
       "         'migrating': 1,\n",
       "         'must': 5,\n",
       "         'many': 38,\n",
       "         'patient': 1,\n",
       "         'organization': 17,\n",
       "         'scale': 10,\n",
       "         'atmosphere': 5,\n",
       "         'value': 11,\n",
       "         'open': 2,\n",
       "         'improved': 7,\n",
       "         'canteen': 4,\n",
       "         'better': 23,\n",
       "         'transparency': 10,\n",
       "         'upon': 8,\n",
       "         'asked': 9,\n",
       "         'refuse': 1,\n",
       "         'bonuses': 2,\n",
       "         'package': 19,\n",
       "         'cant': 6,\n",
       "         'relocate': 5,\n",
       "         'culture': 31,\n",
       "         'doesnot': 1,\n",
       "         'experience': 19,\n",
       "         'amazing': 1,\n",
       "         'mention': 6,\n",
       "         'something': 3,\n",
       "         'productive': 2,\n",
       "         'learn': 24,\n",
       "         'dirty': 2,\n",
       "         'rmg': 7,\n",
       "         'site': 8,\n",
       "         'clearly': 2,\n",
       "         'manual': 3,\n",
       "         'money': 10,\n",
       "         'testing': 8,\n",
       "         'given': 25,\n",
       "         'benefits': 27,\n",
       "         'selenium': 1,\n",
       "         'trained': 7,\n",
       "         'minded': 4,\n",
       "         'practices': 4,\n",
       "         'automation': 4,\n",
       "         'lack': 33,\n",
       "         'best': 10,\n",
       "         'competitive': 3,\n",
       "         'senior': 31,\n",
       "         'odd': 1,\n",
       "         'play': 3,\n",
       "         'ethics': 4,\n",
       "         'slave': 1,\n",
       "         'treat': 3,\n",
       "         'pressure': 25,\n",
       "         'salaries': 8,\n",
       "         'linear': 1,\n",
       "         'uselessly': 1,\n",
       "         'allocation': 2,\n",
       "         'private': 1,\n",
       "         'certain': 3,\n",
       "         'promotion': 21,\n",
       "         'dominated': 1,\n",
       "         'conform': 1,\n",
       "         'government': 2,\n",
       "         'chill': 2,\n",
       "         'motivation': 6,\n",
       "         'sycophancy': 3,\n",
       "         'job': 26,\n",
       "         'sector': 1,\n",
       "         'marathi': 2,\n",
       "         'offsites': 1,\n",
       "         'perks': 9,\n",
       "         'overall': 9,\n",
       "         'downsides': 5,\n",
       "         'irrespective': 6,\n",
       "         'college': 1,\n",
       "         'initially': 2,\n",
       "         'scarcity': 1,\n",
       "         'lot': 36,\n",
       "         'documentation': 2,\n",
       "         'technical': 19,\n",
       "         'could': 13,\n",
       "         'giving': 9,\n",
       "         'ratings': 9,\n",
       "         'criticizing': 1,\n",
       "         'someone': 3,\n",
       "         'flexible': 11,\n",
       "         'engagements': 1,\n",
       "         'keeps': 4,\n",
       "         'disbursal': 1,\n",
       "         'notice': 25,\n",
       "         'payout': 1,\n",
       "         'yearly': 15,\n",
       "         'encouragement': 4,\n",
       "         'security': 6,\n",
       "         'transfers': 2,\n",
       "         'chances': 3,\n",
       "         'relocating': 1,\n",
       "         'amount': 9,\n",
       "         'take': 19,\n",
       "         'respect': 6,\n",
       "         'leads': 6,\n",
       "         'tiny': 1,\n",
       "         'interested': 3,\n",
       "         'professional': 8,\n",
       "         'meagre': 2,\n",
       "         'behaviour': 3,\n",
       "         'putting': 2,\n",
       "         'testers': 1,\n",
       "         'anz': 1,\n",
       "         'biased': 12,\n",
       "         'specific': 2,\n",
       "         'towards': 6,\n",
       "         'knowledge': 8,\n",
       "         'indians': 2,\n",
       "         'financial': 7,\n",
       "         'faced': 8,\n",
       "         'kannada': 1,\n",
       "         'firm': 5,\n",
       "         'first': 8,\n",
       "         'struggle': 3,\n",
       "         'villages': 1,\n",
       "         'ever': 10,\n",
       "         'north': 1,\n",
       "         'sometimes': 16,\n",
       "         'expect': 9,\n",
       "         'stringent': 4,\n",
       "         'average': 18,\n",
       "         'infrastructure': 10,\n",
       "         'every': 29,\n",
       "         'things': 19,\n",
       "         'suppot': 1,\n",
       "         'background': 3,\n",
       "         'development': 21,\n",
       "         'seriously': 2,\n",
       "         'start': 5,\n",
       "         'join': 20,\n",
       "         'burden': 2,\n",
       "         'comparatively': 4,\n",
       "         'teams': 13,\n",
       "         'offers': 2,\n",
       "         'handle': 3,\n",
       "         'able': 5,\n",
       "         'adverse': 1,\n",
       "         'weaker': 1,\n",
       "         'admin': 3,\n",
       "         'known': 3,\n",
       "         'hand': 6,\n",
       "         'till': 12,\n",
       "         'yet': 5,\n",
       "         'formals': 3,\n",
       "         'improve': 10,\n",
       "         'india': 16,\n",
       "         'per': 30,\n",
       "         'compensate': 1,\n",
       "         'industry': 18,\n",
       "         'cities': 1,\n",
       "         'sucks': 6,\n",
       "         'toss': 1,\n",
       "         'asking': 2,\n",
       "         'group': 4,\n",
       "         'via': 1,\n",
       "         'quit': 2,\n",
       "         'month': 7,\n",
       "         'engineer': 4,\n",
       "         'daily': 3,\n",
       "         'forced': 5,\n",
       "         'falls': 1,\n",
       "         'extended': 2,\n",
       "         'directly': 1,\n",
       "         'night': 2,\n",
       "         'several': 3,\n",
       "         'cabs': 2,\n",
       "         'times': 18,\n",
       "         'relocation': 10,\n",
       "         'interms': 1,\n",
       "         'issues': 13,\n",
       "         'disappointed': 1,\n",
       "         'works': 11,\n",
       "         'probationary': 1,\n",
       "         'leaves': 8,\n",
       "         'mncs': 3,\n",
       "         'snails': 1,\n",
       "         'pace': 3,\n",
       "         'delay': 3,\n",
       "         'innovation': 5,\n",
       "         'hiring': 7,\n",
       "         'strategy': 5,\n",
       "         'code': 9,\n",
       "         'weekly': 1,\n",
       "         'dress': 9,\n",
       "         'maintenance': 7,\n",
       "         'learning': 30,\n",
       "         'months': 24,\n",
       "         'training': 18,\n",
       "         'sitting': 1,\n",
       "         'different': 15,\n",
       "         'assigned': 8,\n",
       "         'domain': 13,\n",
       "         'rmz': 1,\n",
       "         'released': 1,\n",
       "         'important': 6,\n",
       "         'thing': 10,\n",
       "         'called': 3,\n",
       "         'spoke': 1,\n",
       "         'deal': 6,\n",
       "         'pmo': 1,\n",
       "         'professionals': 5,\n",
       "         'cause': 2,\n",
       "         'placement': 1,\n",
       "         'rude': 7,\n",
       "         'unethical': 1,\n",
       "         'functional': 2,\n",
       "         'behavior': 3,\n",
       "         'way': 18,\n",
       "         'release': 5,\n",
       "         'manners': 1,\n",
       "         'clients': 8,\n",
       "         'dealing': 3,\n",
       "         'treated': 5,\n",
       "         'big': 16,\n",
       "         'mess': 1,\n",
       "         'consultants': 2,\n",
       "         'confuse': 1,\n",
       "         'fellow': 3,\n",
       "         'supports': 2,\n",
       "         'chenge': 1,\n",
       "         'simplest': 1,\n",
       "         'issue': 14,\n",
       "         'ask': 14,\n",
       "         'slow': 23,\n",
       "         'ramakrishnan': 1,\n",
       "         'sense': 3,\n",
       "         'document': 2,\n",
       "         'actually': 6,\n",
       "         'existed': 1,\n",
       "         'vijayarajanramakrishnan': 1,\n",
       "         'application': 3,\n",
       "         'results': 4,\n",
       "         'stupid': 4,\n",
       "         'gave': 1,\n",
       "         'kep': 1,\n",
       "         'wnat': 1,\n",
       "         'give': 25,\n",
       "         'yes': 4,\n",
       "         'bla': 1,\n",
       "         'understand': 6,\n",
       "         'anything': 10,\n",
       "         'fsd': 1,\n",
       "         'frustation': 1,\n",
       "         'due': 13,\n",
       "         'thier': 4,\n",
       "         'said': 1,\n",
       "         'anyway': 1,\n",
       "         'realise': 1,\n",
       "         'silent': 1,\n",
       "         'convense': 1,\n",
       "         'thought': 4,\n",
       "         'unsubjected': 1,\n",
       "         'result': 2,\n",
       "         'functionel': 1,\n",
       "         'finally': 1,\n",
       "         'responsibelity': 1,\n",
       "         'satisfy': 1,\n",
       "         'seeing': 2,\n",
       "         'critical': 4,\n",
       "         'onwards': 1,\n",
       "         'right': 8,\n",
       "         'progress': 5,\n",
       "         'consultant': 3,\n",
       "         'ways': 1,\n",
       "         'replied': 1,\n",
       "         'povert': 1,\n",
       "         'review': 16,\n",
       "         'peaks': 1,\n",
       "         'tell': 6,\n",
       "         'previous': 2,\n",
       "         'help': 11,\n",
       "         'didnot': 2,\n",
       "         'means': 5,\n",
       "         'completed': 2,\n",
       "         'output': 1,\n",
       "         'hard': 14,\n",
       "         'speaking': 3,\n",
       "         'advantage': 2,\n",
       "         'task': 3,\n",
       "         'lead': 6,\n",
       "         'frankly': 2,\n",
       "         'show': 3,\n",
       "         'agreed': 2,\n",
       "         'waste': 6,\n",
       "         'developed': 1,\n",
       "         'version': 1,\n",
       "         'specification': 1,\n",
       "         'appreciations': 1,\n",
       "         'canot': 1,\n",
       "         'came': 3,\n",
       "         'vijayarajan': 1,\n",
       "         'explain': 1,\n",
       "         'meeting': 4,\n",
       "         'told': 4,\n",
       "         'wfh': 4,\n",
       "         'mandate': 2,\n",
       "         'worklife': 2,\n",
       "         'starting': 4,\n",
       "         'freshers': 63,\n",
       "         'going': 10,\n",
       "         'little': 10,\n",
       "         'away': 8,\n",
       "         'influence': 2,\n",
       "         'ground': 2,\n",
       "         'hrbp': 1,\n",
       "         'allowed': 6,\n",
       "         'books': 2,\n",
       "         'concerns': 9,\n",
       "         'spread': 1,\n",
       "         'campus': 2,\n",
       "         'however': 5,\n",
       "         'makes': 6,\n",
       "         'offices': 6,\n",
       "         'far': 15,\n",
       "         'disadvantage': 3,\n",
       "         'generally': 3,\n",
       "         'city': 9,\n",
       "         'fesher': 1,\n",
       "         'taken': 9,\n",
       "         'might': 16,\n",
       "         'destroys': 1,\n",
       "         'managing': 2,\n",
       "         'certification': 2,\n",
       "         'trainings': 5,\n",
       "         'lecture': 2,\n",
       "         'yrs': 4,\n",
       "         'gain': 2,\n",
       "         'junior': 2,\n",
       "         'lots': 12,\n",
       "         'introduced': 3,\n",
       "         'kind': 7,\n",
       "         'end': 8,\n",
       "         'feedback': 3,\n",
       "         'experienced': 11,\n",
       "         'undertaken': 1,\n",
       "         'java': 4,\n",
       "         'component': 4,\n",
       "         'gives': 3,\n",
       "         'complete': 7,\n",
       "         'mid': 6,\n",
       "         'certifications': 3,\n",
       "         'increment': 44,\n",
       "         'online': 1,\n",
       "         'main': 2,\n",
       "         'hour': 5,\n",
       "         'ranges': 1,\n",
       "         'present': 2,\n",
       "         'anonymity': 1,\n",
       "         'ranging': 1,\n",
       "         'boss': 5,\n",
       "         'still': 13,\n",
       "         'regarding': 3,\n",
       "         'biggest': 7,\n",
       "         'cannot': 3,\n",
       "         'web': 1,\n",
       "         'purpose': 2,\n",
       "         'outstates': 1,\n",
       "         'community': 2,\n",
       "         'baised': 1,\n",
       "         'hyderabad': 1,\n",
       "         'pune': 5,\n",
       "         'organisation': 5,\n",
       "         'timely': 1,\n",
       "         'loyal': 1,\n",
       "         'cutting': 14,\n",
       "         'structured': 2,\n",
       "         'correction': 3,\n",
       "         'encouraged': 2,\n",
       "         'cost': 19,\n",
       "         'none': 11,\n",
       "         'effect': 2,\n",
       "         'hate': 1,\n",
       "         'concern': 3,\n",
       "         'mangers': 1,\n",
       "         'jail': 1,\n",
       "         'please': 3,\n",
       "         'showing': 1,\n",
       "         'words': 3,\n",
       "         'left': 3,\n",
       "         'attitudes': 1,\n",
       "         'listen': 6,\n",
       "         'change': 21,\n",
       "         'foe': 1,\n",
       "         'staying': 2,\n",
       "         'longer': 5,\n",
       "         'squeezing': 1,\n",
       "         'benifits': 3,\n",
       "         'multiple': 6,\n",
       "         'polishing': 1,\n",
       "         'shoe': 1,\n",
       "         'savings': 1,\n",
       "         'medium': 2,\n",
       "         'administration': 1,\n",
       "         'washroom': 1,\n",
       "         'dept': 1,\n",
       "         'difference': 4,\n",
       "         'activities': 5,\n",
       "         'deliverable': 1,\n",
       "         'boast': 1,\n",
       "         'competitors': 5,\n",
       "         'namesake': 1,\n",
       "         'supportive': 5,\n",
       "         'higher': 21,\n",
       "         'fine': 3,\n",
       "         'negligible': 6,\n",
       "         'almost': 7,\n",
       "         'line': 2,\n",
       "         'technologies': 12,\n",
       "         'choose': 3,\n",
       "         'engagement': 2,\n",
       "         'trending': 1,\n",
       "         'office': 34,\n",
       "         'matrix': 4,\n",
       "         'takes': 8,\n",
       "         'business': 10,\n",
       "         'org': 2,\n",
       "         'huge': 6,\n",
       "         'since': 9,\n",
       "         'services': 10,\n",
       "         'self': 4,\n",
       "         'list': 2,\n",
       "         'transport': 20,\n",
       "         'peanuts': 2,\n",
       "         'endless': 1,\n",
       "         'last': 11,\n",
       "         'rules': 4,\n",
       "         'areas': 3,\n",
       "         'may': 20,\n",
       "         'basic': 3,\n",
       "         'running': 3,\n",
       "         'inspired': 2,\n",
       "         'degrading': 3,\n",
       "         'western': 3,\n",
       "         'realized': 1,\n",
       "         'growing': 2,\n",
       "         'stanley': 1,\n",
       "         'expenses': 1,\n",
       "         'companies': 27,\n",
       "         'hsbc': 2,\n",
       "         'wipro': 2,\n",
       "         'etc': 5,\n",
       "         'consultancy': 3,\n",
       "         'faster': 2,\n",
       "         'continuing': 1,\n",
       "         'valuable': 1,\n",
       "         'morgan': 1,\n",
       "         'chase': 1,\n",
       "         'deliveries': 2,\n",
       "         'tata': 1,\n",
       "         'afford': 1,\n",
       "         'variations': 1,\n",
       "         'sbu': 2,\n",
       "         'accounts': 5,\n",
       "         'bus': 7,\n",
       "         'accommodation': 2,\n",
       "         'engineering': 3,\n",
       "         'workforce': 1,\n",
       "         'explore': 3,\n",
       "         'helped': 1,\n",
       "         'tht': 1,\n",
       "         'part': 8,\n",
       "         'size': 3,\n",
       "         'margins': 1,\n",
       "         'purely': 2,\n",
       "         'reduction': 3,\n",
       "         'stuck': 4,\n",
       "         'distinct': 1,\n",
       "         'emp': 1,\n",
       "         'denied': 1,\n",
       "         'units': 4,\n",
       "         'sub': 4,\n",
       "         'transferred': 1,\n",
       "         'changing': 8,\n",
       "         'terms': 16,\n",
       "         'downside': 3,\n",
       "         'free': 6,\n",
       "         'largely': 1,\n",
       "         'market': 34,\n",
       "         'communicate': 2,\n",
       "         'talks': 4,\n",
       "         'reasons': 2,\n",
       "         'silly': 1,\n",
       "         'skill': 13,\n",
       "         'offering': 1,\n",
       "         'decent': 1,\n",
       "         'member': 2,\n",
       "         'easily': 2,\n",
       "         'gap': 2,\n",
       "         'communication': 6,\n",
       "         'provide': 11,\n",
       "         'allowance': 3,\n",
       "         'provided': 8,\n",
       "         'facilities': 16,\n",
       "         'transportation': 9,\n",
       "         'rooms': 1,\n",
       "         'schedule': 3,\n",
       "         'hectic': 6,\n",
       "         'payment': 2,\n",
       "         'fast': 3,\n",
       "         'employess': 1,\n",
       "         'dont': 16,\n",
       "         'reallocating': 1,\n",
       "         'keep': 10,\n",
       "         'hometown': 1,\n",
       "         'trasfer': 1,\n",
       "         'lbs': 6,\n",
       "         'side': 4,\n",
       "         'frequently': 1,\n",
       "         'settle': 2,\n",
       "         'micro': 4,\n",
       "         'impress': 1,\n",
       "         'lower': 6,\n",
       "         'pure': 2,\n",
       "         'opertunity': 1,\n",
       "         'nightmare': 1,\n",
       "         'support': 23,\n",
       "         'wasted': 1,\n",
       "         'revising': 1,\n",
       "         'earns': 1,\n",
       "         'rates': 3,\n",
       "         'accolades': 1,\n",
       "         'met': 2,\n",
       "         'care': 15,\n",
       "         'worldwide': 2,\n",
       "         'welfare': 2,\n",
       "         'recent': 1,\n",
       "         'rating': 12,\n",
       "         'systems': 2,\n",
       "         'using': 6,\n",
       "         'prepaed': 1,\n",
       "         'annaum': 1,\n",
       "         'slightly': 2,\n",
       "         'specially': 1,\n",
       "         'maintained': 1,\n",
       "         'branches': 1,\n",
       "         'fully': 3,\n",
       "         'leadership': 13,\n",
       "         'tenured': 1,\n",
       "         'usually': 2,\n",
       "         'staffing': 7,\n",
       "         'reason': 4,\n",
       "         'counterparts': 1,\n",
       "         'band': 4,\n",
       "         'unit': 3,\n",
       "         'failed': 1,\n",
       "         'wise': 4,\n",
       "         'attend': 5,\n",
       "         'cross': 3,\n",
       "         'allowing': 1,\n",
       "         'put': 13,\n",
       "         'interviews': 2,\n",
       "         'ended': 1,\n",
       "         'studies': 1,\n",
       "         'prefer': 1,\n",
       "         'guide': 2,\n",
       "         'skills': 10,\n",
       "         'match': 1,\n",
       "         'allocated': 2,\n",
       "         'laterals': 1,\n",
       "         'locations': 7,\n",
       "         'town': 1,\n",
       "         'provides': 1,\n",
       "         'challenging': 4,\n",
       "         'got': 14,\n",
       "         'friends': 3,\n",
       "         'without': 9,\n",
       "         'interest': 5,\n",
       "         'sets': 3,\n",
       "         'reviewed': 2,\n",
       "         'hire': 7,\n",
       "         'approval': 2,\n",
       "         'avail': 1,\n",
       "         'candidate': 4,\n",
       "         'offer': 4,\n",
       "         'system': 22,\n",
       "         'number': 4,\n",
       "         'girls': 2,\n",
       "         'late': 6,\n",
       "         'improving': 3,\n",
       "         'process': 30,\n",
       "         'build': 1,\n",
       "         'personality': 1,\n",
       "         'social': 3,\n",
       "         'helps': 3,\n",
       "         'attending': 1,\n",
       "         'middle': 11,\n",
       "         'opportunitites': 1,\n",
       "         'fewer': 1,\n",
       "         'structure': 27,\n",
       "         'finance': 3,\n",
       "         'mba': 1,\n",
       "         'never': 19,\n",
       "         'spend': 6,\n",
       "         'look': 7,\n",
       "         'complicated': 1,\n",
       "         'outside': 7,\n",
       "         'looking': 6,\n",
       "         'associated': 1,\n",
       "         'oriented': 13,\n",
       "         'quality': 16,\n",
       "         'complacency': 1,\n",
       "         'boredom': 1,\n",
       "         'mentoring': 1,\n",
       "         'integration': 6,\n",
       "         'post': 4,\n",
       "         'changes': 8,\n",
       "         'percentage': 5,\n",
       "         'goes': 1,\n",
       "         'wait': 8,\n",
       "         'opartunity': 1,\n",
       "         'contract': 3,\n",
       "         'completes': 1,\n",
       "         'accordingly': 1,\n",
       "         'sent': 1,\n",
       "         'helpful': 3,\n",
       "         'wont': 6,\n",
       "         'negotiate': 2,\n",
       "         'profile': 5,\n",
       "         'recommended': 2,\n",
       "         'intresting': 1,\n",
       "         'fixed': 2,\n",
       "         'guaranteed': 1,\n",
       "         'workochlic': 1,\n",
       "         'bit': 11,\n",
       "         'switch': 12,\n",
       "         'sheets': 3,\n",
       "         'maintaining': 3,\n",
       "         'mindset': 2,\n",
       "         'upper': 3,\n",
       "         'billing': 4,\n",
       "         'focuses': 1,\n",
       "         'att': 1,\n",
       "         'excel': 6,\n",
       "         'track': 1,\n",
       "         'rate': 7,\n",
       "         'utilization': 2,\n",
       "         'executive': 1,\n",
       "         'initial': 1,\n",
       "         'relations': 1,\n",
       "         'everywhere': 3,\n",
       "         'openings': 1,\n",
       "         'acquisitions': 5,\n",
       "         'screw': 2,\n",
       "         'program': 2,\n",
       "         'views': 1,\n",
       "         'fulfilling': 1,\n",
       "         'revamping': 1,\n",
       "         'rewards': 3,\n",
       "         'negative': 6,\n",
       "         'exit': 4,\n",
       "         'transfer': 5,\n",
       "         'alot': 1,\n",
       "         'liked': 1,\n",
       "         'learnt': 1,\n",
       "         'deductions': 1,\n",
       "         'unannounced': 1,\n",
       "         'bence': 1,\n",
       "         'donot': 1,\n",
       "         'negotiable': 1,\n",
       "         'con': 6,\n",
       "         'places': 1,\n",
       "         'compensations': 2,\n",
       "         'stagnant': 1,\n",
       "         'scales': 1,\n",
       "         'indian': 7,\n",
       "         'ahead': 1,\n",
       "         'challenges': 3,\n",
       "         'hardware': 2,\n",
       "         'tiring': 1,\n",
       "         'max': 2,\n",
       "         'sez': 1,\n",
       "         'rampdown': 1,\n",
       "         'chance': 6,\n",
       "         'lease': 1,\n",
       "         'taking': 5,\n",
       "         'stop': 4,\n",
       "         'equivalent': 1,\n",
       "         'lazy': 4,\n",
       "         'simple': 2,\n",
       "         'procedures': 4,\n",
       "         'bonus': 13,\n",
       "         'unable': 4,\n",
       "         'formalities': 2,\n",
       "         'folks': 4,\n",
       "         'unsupportive': 1,\n",
       "         'example': 2,\n",
       "         'employers': 2,\n",
       "         'resign': 1,\n",
       "         'extremely': 8,\n",
       "         'confidentially': 1,\n",
       "         'land': 1,\n",
       "         'mediocre': 3,\n",
       "         'league': 1,\n",
       "         'major': 4,\n",
       "         'service': 11,\n",
       "         'monetory': 1,\n",
       "         'moment': 2,\n",
       "         'discuss': 2,\n",
       "         'useless': 5,\n",
       "         'event': 1,\n",
       "         'currently': 3,\n",
       "         'celebration': 1,\n",
       "         'rat': 1,\n",
       "         'spends': 1,\n",
       "         'ready': 4,\n",
       "         'logout': 1,\n",
       "         'standards': 15,\n",
       "         'manage': 4,\n",
       "         'login': 2,\n",
       "         'introducing': 1,\n",
       "         'talent': 6,\n",
       "         'casual': 1,\n",
       "         'enter': 2,\n",
       "         'cafeterias': 1,\n",
       "         'overcrowded': 1,\n",
       "         'offered': 5,\n",
       "         'thre': 1,\n",
       "         'presure': 1,\n",
       "         'beginners': 2,\n",
       "         'standard': 14,\n",
       "         'workload': 7,\n",
       "         'maybe': 2,\n",
       "         'according': 6,\n",
       "         'emplyees': 1,\n",
       "         'consideration': 3,\n",
       "         'overheard': 1,\n",
       "         'whether': 2,\n",
       "         'bpo': 1,\n",
       "         'mostly': 13,\n",
       "         'soo': 2,\n",
       "         'noida': 4,\n",
       "         'events': 2,\n",
       "         'domestic': 2,\n",
       "         'needs': 20,\n",
       "         'needed': 5,\n",
       "         'interaction': 3,\n",
       "         'cultural': 2,\n",
       "         'loved': 1,\n",
       "         'lay': 1,\n",
       "         'happens': 5,\n",
       "         'cruelity': 1,\n",
       "         'focused': 4,\n",
       "         'expected': 5,\n",
       "         'future': 6,\n",
       "         'reflect': 1,\n",
       "         'processes': 11,\n",
       "         'immediately': 1,\n",
       "         'improvised': 1,\n",
       "         'matter': 9,\n",
       "         'cares': 4,\n",
       "         'robotic': 1,\n",
       "         'simply': 2,\n",
       "         'nobody': 4,\n",
       "         ...})"
      ]
     },
     "execution_count": 45,
     "metadata": {},
     "output_type": "execute_result"
    }
   ],
   "source": [
    "Counter(non_stopWords)"
   ]
  },
  {
   "cell_type": "code",
   "execution_count": 46,
   "metadata": {},
   "outputs": [
    {
     "data": {
      "text/plain": [
       "<matplotlib.image.AxesImage at 0x1a5649ac400>"
      ]
     },
     "execution_count": 46,
     "metadata": {},
     "output_type": "execute_result"
    },
    {
     "data": {
      "image/png": "[encoded data removed]",
      "text/plain": [
       "<Figure size 720x864 with 1 Axes>"
      ]
     },
     "metadata": {
      "needs_background": "light"
     },
     "output_type": "display_data"
    }
   ],
   "source": [
    "# Word Cloud\n",
    "non_stopWords1 = stopwordcount(prosdf['stop_removed'])\n",
    "#print(str(non_stopWords))\n",
    "plot_word_cloud(str(non_stopWords1))"
   ]
  },
  {
   "cell_type": "code",
   "execution_count": 47,
   "metadata": {},
   "outputs": [
    {
     "data": {
      "text/plain": [
       "'good company working environment good friendly work pressure less compare companies work culture good great opportunity learn new technology'"
      ]
     },
     "execution_count": 47,
     "metadata": {},
     "output_type": "execute_result"
    }
   ],
   "source": [
    "prosdf.iloc[0,5]"
   ]
  },
  {
   "cell_type": "code",
   "execution_count": 48,
   "metadata": {},
   "outputs": [],
   "source": [
    "analysis = TextBlob(clean_review(\"good company working environment good friendly work pressure less compare companies work culture good great opportunity learn new technology\"))"
   ]
  },
  {
   "cell_type": "code",
   "execution_count": 49,
   "metadata": {},
   "outputs": [
    {
     "data": {
      "text/plain": [
       "TextBlob(\"good company working environment good friendly work pressure less compare companies work culture good great opportunity learn new technology\")"
      ]
     },
     "execution_count": 49,
     "metadata": {},
     "output_type": "execute_result"
    }
   ],
   "source": [
    "analysis"
   ]
  },
  {
   "cell_type": "code",
   "execution_count": 50,
   "metadata": {},
   "outputs": [
    {
     "data": {
      "text/plain": [
       "Sentiment(polarity=0.4635281385281385, subjectivity=0.5101731601731603)"
      ]
     },
     "execution_count": 50,
     "metadata": {},
     "output_type": "execute_result"
    }
   ],
   "source": [
    "analysis.sentiment"
   ]
  },
  {
   "cell_type": "code",
   "execution_count": 51,
   "metadata": {},
   "outputs": [],
   "source": [
    "abc=TextBlob(\"Koti is a good boy\")"
   ]
  },
  {
   "cell_type": "code",
   "execution_count": 52,
   "metadata": {},
   "outputs": [
    {
     "data": {
      "text/plain": [
       "Sentiment(polarity=0.7, subjectivity=0.6000000000000001)"
      ]
     },
     "execution_count": 52,
     "metadata": {},
     "output_type": "execute_result"
    }
   ],
   "source": [
    "abc.sentiment"
   ]
  },
  {
   "cell_type": "code",
   "execution_count": 53,
   "metadata": {},
   "outputs": [],
   "source": [
    "abc=TextBlob(\"Koti is not a good boy\")"
   ]
  },
  {
   "cell_type": "code",
   "execution_count": 54,
   "metadata": {},
   "outputs": [
    {
     "data": {
      "text/plain": [
       "Sentiment(polarity=-0.35, subjectivity=0.6000000000000001)"
      ]
     },
     "execution_count": 54,
     "metadata": {},
     "output_type": "execute_result"
    }
   ],
   "source": [
    "abc.sentiment"
   ]
  },
  {
   "cell_type": "code",
   "execution_count": 55,
   "metadata": {},
   "outputs": [],
   "source": [
    "abc=TextBlob(\"India is a country\")"
   ]
  },
  {
   "cell_type": "code",
   "execution_count": 56,
   "metadata": {},
   "outputs": [
    {
     "data": {
      "text/plain": [
       "Sentiment(polarity=0.0, subjectivity=0.0)"
      ]
     },
     "execution_count": 56,
     "metadata": {},
     "output_type": "execute_result"
    }
   ],
   "source": [
    "abc.sentiment"
   ]
  },
  {
   "cell_type": "code",
   "execution_count": 57,
   "metadata": {},
   "outputs": [],
   "source": [
    "\n",
    "abc=OriginalData.loc[3][0]"
   ]
  },
  {
   "cell_type": "code",
   "execution_count": 58,
   "metadata": {},
   "outputs": [
    {
     "data": {
      "text/plain": [
       "'Company is good  to work .\\n\\nWork life balance .'"
      ]
     },
     "execution_count": 58,
     "metadata": {},
     "output_type": "execute_result"
    }
   ],
   "source": [
    "abc"
   ]
  },
  {
   "cell_type": "code",
   "execution_count": 59,
   "metadata": {},
   "outputs": [],
   "source": [
    "abc1=TextBlob(abc)"
   ]
  },
  {
   "cell_type": "code",
   "execution_count": 60,
   "metadata": {},
   "outputs": [
    {
     "data": {
      "text/plain": [
       "TextBlob(\"Company is good  to work .\n",
       "\n",
       "Work life balance .\")"
      ]
     },
     "execution_count": 60,
     "metadata": {},
     "output_type": "execute_result"
    }
   ],
   "source": [
    "abc1"
   ]
  },
  {
   "cell_type": "code",
   "execution_count": 61,
   "metadata": {},
   "outputs": [
    {
     "data": {
      "text/plain": [
       "Sentiment(polarity=0.7, subjectivity=0.6000000000000001)"
      ]
     },
     "execution_count": 61,
     "metadata": {},
     "output_type": "execute_result"
    }
   ],
   "source": [
    "abc1.sentiment"
   ]
  },
  {
   "cell_type": "code",
   "execution_count": 62,
   "metadata": {},
   "outputs": [
    {
     "data": {
      "text/plain": [
       "Sentiment(polarity=0.7, subjectivity=0.6000000000000001)"
      ]
     },
     "execution_count": 62,
     "metadata": {},
     "output_type": "execute_result"
    }
   ],
   "source": [
    "abc1.sentiment"
   ]
  },
  {
   "cell_type": "code",
   "execution_count": 63,
   "metadata": {},
   "outputs": [],
   "source": [
    "def analize_sentiment(review):\n",
    "    analysis = TextBlob(clean_review(review))\n",
    "    \n",
    "    if analysis.sentiment.polarity > 0:\n",
    "        return 1\n",
    "    \n",
    "    elif analysis.sentiment.polarity < 0:\n",
    "        return -1\n",
    "    \n",
    "    else:\n",
    "        return 0\n",
    "    \n",
    "def analize_sentiment1(review):\n",
    "    analysis = TextBlob(clean_review(review))\n",
    "    return analysis.sentiment.subjectivity\n",
    "\n",
    "def getlabel(text):\n",
    "    \n",
    "    score = abs(text['ProsPolarity']) - abs(text['ConsPolarity'])\n",
    "    \n",
    "    if score > 0:\n",
    "        label = 1\n",
    "        \n",
    "    elif score <0 :\n",
    "        label = -1\n",
    "        \n",
    "    else:\n",
    "        label =0\n",
    "    \n",
    "    return label"
   ]
  },
  {
   "cell_type": "code",
   "execution_count": 64,
   "metadata": {},
   "outputs": [
    {
     "data": {
      "text/html": [
       "<div>\n",
       "<style scoped>\n",
       "    .dataframe tbody tr th:only-of-type {\n",
       "        vertical-align: middle;\n",
       "    }\n",
       "\n",
       "    .dataframe tbody tr th {\n",
       "        vertical-align: top;\n",
       "    }\n",
       "\n",
       "    .dataframe thead th {\n",
       "        text-align: right;\n",
       "    }\n",
       "</style>\n",
       "<table border=\"1\" class=\"dataframe\">\n",
       "  <thead>\n",
       "    <tr style=\"text-align: right;\">\n",
       "      <th></th>\n",
       "      <th>Pros</th>\n",
       "      <th>PreCleanStopWords</th>\n",
       "      <th>CleanedReview</th>\n",
       "      <th>PostCleanStopWords</th>\n",
       "      <th>stop_removed</th>\n",
       "      <th>clean_text</th>\n",
       "    </tr>\n",
       "  </thead>\n",
       "  <tbody>\n",
       "    <tr>\n",
       "      <th>0</th>\n",
       "      <td>A very good company, working environment is ve...</td>\n",
       "      <td>[is, as, other, a, to, very, and]</td>\n",
       "      <td>very good company working environment very goo...</td>\n",
       "      <td>[very, other, and]</td>\n",
       "      <td>[work, friendly, environment, good, company, w...</td>\n",
       "      <td>good company working environment good friendly...</td>\n",
       "    </tr>\n",
       "    <tr>\n",
       "      <th>1</th>\n",
       "      <td>Good working environment in Bangalore</td>\n",
       "      <td>[in]</td>\n",
       "      <td>good working environment bangalore</td>\n",
       "      <td>[]</td>\n",
       "      <td>[bangalore, environment, good, working]</td>\n",
       "      <td>good working environment bangalore</td>\n",
       "    </tr>\n",
       "    <tr>\n",
       "      <th>2</th>\n",
       "      <td>it has good work environment</td>\n",
       "      <td>[it, has]</td>\n",
       "      <td>has good work environment</td>\n",
       "      <td>[has]</td>\n",
       "      <td>[work, environment, good]</td>\n",
       "      <td>good work environment</td>\n",
       "    </tr>\n",
       "    <tr>\n",
       "      <th>3</th>\n",
       "      <td>Company is good  to work .\\n\\nWork life balance .</td>\n",
       "      <td>[is, to]</td>\n",
       "      <td>company good work work life balance</td>\n",
       "      <td>[]</td>\n",
       "      <td>[work, good, company, life, balance]</td>\n",
       "      <td>company good work work life balance</td>\n",
       "    </tr>\n",
       "    <tr>\n",
       "      <th>4</th>\n",
       "      <td>Equality among the colleagues ,Stress free env...</td>\n",
       "      <td>[the]</td>\n",
       "      <td>equality among the colleagues stress free envi...</td>\n",
       "      <td>[the]</td>\n",
       "      <td>[free, environment, colleagues, equality, stre...</td>\n",
       "      <td>equality among colleagues stress free environment</td>\n",
       "    </tr>\n",
       "  </tbody>\n",
       "</table>\n",
       "</div>"
      ],
      "text/plain": [
       "                                                Pros  \\\n",
       "0  A very good company, working environment is ve...   \n",
       "1              Good working environment in Bangalore   \n",
       "2                       it has good work environment   \n",
       "3  Company is good  to work .\\n\\nWork life balance .   \n",
       "4  Equality among the colleagues ,Stress free env...   \n",
       "\n",
       "                   PreCleanStopWords  \\\n",
       "0  [is, as, other, a, to, very, and]   \n",
       "1                               [in]   \n",
       "2                          [it, has]   \n",
       "3                           [is, to]   \n",
       "4                              [the]   \n",
       "\n",
       "                                       CleanedReview  PostCleanStopWords  \\\n",
       "0  very good company working environment very goo...  [very, other, and]   \n",
       "1                 good working environment bangalore                  []   \n",
       "2                          has good work environment               [has]   \n",
       "3                company good work work life balance                  []   \n",
       "4  equality among the colleagues stress free envi...               [the]   \n",
       "\n",
       "                                        stop_removed  \\\n",
       "0  [work, friendly, environment, good, company, w...   \n",
       "1            [bangalore, environment, good, working]   \n",
       "2                          [work, environment, good]   \n",
       "3               [work, good, company, life, balance]   \n",
       "4  [free, environment, colleagues, equality, stre...   \n",
       "\n",
       "                                          clean_text  \n",
       "0  good company working environment good friendly...  \n",
       "1                 good working environment bangalore  \n",
       "2                              good work environment  \n",
       "3                company good work work life balance  \n",
       "4  equality among colleagues stress free environment  "
      ]
     },
     "execution_count": 64,
     "metadata": {},
     "output_type": "execute_result"
    }
   ],
   "source": [
    "prosdf.head()"
   ]
  },
  {
   "cell_type": "code",
   "execution_count": 65,
   "metadata": {},
   "outputs": [],
   "source": [
    "prosdf['Polarity'] = prosdf['CleanedReview'].apply(lambda x: analize_sentiment(x))\n",
    "consdf['Polarity'] = consdf['CleanedReview'].apply(lambda x: analize_sentiment(x))"
   ]
  },
  {
   "cell_type": "code",
   "execution_count": 66,
   "metadata": {},
   "outputs": [
    {
     "data": {
      "text/html": [
       "<div>\n",
       "<style scoped>\n",
       "    .dataframe tbody tr th:only-of-type {\n",
       "        vertical-align: middle;\n",
       "    }\n",
       "\n",
       "    .dataframe tbody tr th {\n",
       "        vertical-align: top;\n",
       "    }\n",
       "\n",
       "    .dataframe thead th {\n",
       "        text-align: right;\n",
       "    }\n",
       "</style>\n",
       "<table border=\"1\" class=\"dataframe\">\n",
       "  <thead>\n",
       "    <tr style=\"text-align: right;\">\n",
       "      <th></th>\n",
       "      <th>Pros</th>\n",
       "      <th>PreCleanStopWords</th>\n",
       "      <th>CleanedReview</th>\n",
       "      <th>PostCleanStopWords</th>\n",
       "      <th>stop_removed</th>\n",
       "      <th>clean_text</th>\n",
       "      <th>Polarity</th>\n",
       "    </tr>\n",
       "  </thead>\n",
       "  <tbody>\n",
       "    <tr>\n",
       "      <th>0</th>\n",
       "      <td>A very good company, working environment is ve...</td>\n",
       "      <td>[is, as, other, a, to, very, and]</td>\n",
       "      <td>very good company working environment very goo...</td>\n",
       "      <td>[very, other, and]</td>\n",
       "      <td>[work, friendly, environment, good, company, w...</td>\n",
       "      <td>good company working environment good friendly...</td>\n",
       "      <td>1</td>\n",
       "    </tr>\n",
       "    <tr>\n",
       "      <th>1</th>\n",
       "      <td>Good working environment in Bangalore</td>\n",
       "      <td>[in]</td>\n",
       "      <td>good working environment bangalore</td>\n",
       "      <td>[]</td>\n",
       "      <td>[bangalore, environment, good, working]</td>\n",
       "      <td>good working environment bangalore</td>\n",
       "      <td>1</td>\n",
       "    </tr>\n",
       "    <tr>\n",
       "      <th>2</th>\n",
       "      <td>it has good work environment</td>\n",
       "      <td>[it, has]</td>\n",
       "      <td>has good work environment</td>\n",
       "      <td>[has]</td>\n",
       "      <td>[work, environment, good]</td>\n",
       "      <td>good work environment</td>\n",
       "      <td>1</td>\n",
       "    </tr>\n",
       "    <tr>\n",
       "      <th>3</th>\n",
       "      <td>Company is good  to work .\\n\\nWork life balance .</td>\n",
       "      <td>[is, to]</td>\n",
       "      <td>company good work work life balance</td>\n",
       "      <td>[]</td>\n",
       "      <td>[work, good, company, life, balance]</td>\n",
       "      <td>company good work work life balance</td>\n",
       "      <td>1</td>\n",
       "    </tr>\n",
       "    <tr>\n",
       "      <th>4</th>\n",
       "      <td>Equality among the colleagues ,Stress free env...</td>\n",
       "      <td>[the]</td>\n",
       "      <td>equality among the colleagues stress free envi...</td>\n",
       "      <td>[the]</td>\n",
       "      <td>[free, environment, colleagues, equality, stre...</td>\n",
       "      <td>equality among colleagues stress free environment</td>\n",
       "      <td>1</td>\n",
       "    </tr>\n",
       "  </tbody>\n",
       "</table>\n",
       "</div>"
      ],
      "text/plain": [
       "                                                Pros  \\\n",
       "0  A very good company, working environment is ve...   \n",
       "1              Good working environment in Bangalore   \n",
       "2                       it has good work environment   \n",
       "3  Company is good  to work .\\n\\nWork life balance .   \n",
       "4  Equality among the colleagues ,Stress free env...   \n",
       "\n",
       "                   PreCleanStopWords  \\\n",
       "0  [is, as, other, a, to, very, and]   \n",
       "1                               [in]   \n",
       "2                          [it, has]   \n",
       "3                           [is, to]   \n",
       "4                              [the]   \n",
       "\n",
       "                                       CleanedReview  PostCleanStopWords  \\\n",
       "0  very good company working environment very goo...  [very, other, and]   \n",
       "1                 good working environment bangalore                  []   \n",
       "2                          has good work environment               [has]   \n",
       "3                company good work work life balance                  []   \n",
       "4  equality among the colleagues stress free envi...               [the]   \n",
       "\n",
       "                                        stop_removed  \\\n",
       "0  [work, friendly, environment, good, company, w...   \n",
       "1            [bangalore, environment, good, working]   \n",
       "2                          [work, environment, good]   \n",
       "3               [work, good, company, life, balance]   \n",
       "4  [free, environment, colleagues, equality, stre...   \n",
       "\n",
       "                                          clean_text  Polarity  \n",
       "0  good company working environment good friendly...         1  \n",
       "1                 good working environment bangalore         1  \n",
       "2                              good work environment         1  \n",
       "3                company good work work life balance         1  \n",
       "4  equality among colleagues stress free environment         1  "
      ]
     },
     "execution_count": 66,
     "metadata": {},
     "output_type": "execute_result"
    }
   ],
   "source": [
    "prosdf.head()"
   ]
  },
  {
   "cell_type": "code",
   "execution_count": 67,
   "metadata": {},
   "outputs": [
    {
     "data": {
      "text/plain": [
       " 1    1138\n",
       " 0     173\n",
       "-1      53\n",
       "Name: Polarity, dtype: int64"
      ]
     },
     "execution_count": 67,
     "metadata": {},
     "output_type": "execute_result"
    }
   ],
   "source": [
    "prosdf[\"Polarity\"].value_counts()"
   ]
  },
  {
   "cell_type": "code",
   "execution_count": 68,
   "metadata": {},
   "outputs": [],
   "source": [
    "import seaborn as sns"
   ]
  },
  {
   "cell_type": "code",
   "execution_count": 69,
   "metadata": {},
   "outputs": [
    {
     "name": "stderr",
     "output_type": "stream",
     "text": [
      "C:\\Users\\harid\\anaconda3\\lib\\site-packages\\seaborn\\_decorators.py:36: FutureWarning: Pass the following variable as a keyword arg: x. From version 0.12, the only valid positional argument will be `data`, and passing other arguments without an explicit keyword will result in an error or misinterpretation.\n",
      "  warnings.warn(\n"
     ]
    },
    {
     "data": {
      "text/plain": [
       "(array([0, 1, 2]), [Text(0, 0, '-1'), Text(1, 0, '0'), Text(2, 0, '1')])"
      ]
     },
     "execution_count": 69,
     "metadata": {},
     "output_type": "execute_result"
    },
    {
     "data": {
      "image/png": "[encoded data removed]",
      "text/plain": [
       "<Figure size 432x288 with 1 Axes>"
      ]
     },
     "metadata": {
      "needs_background": "light"
     },
     "output_type": "display_data"
    }
   ],
   "source": [
    "import seaborn as sns\n",
    "sns.countplot(prosdf[\"Polarity\"])\n",
    "plt.xticks(rotation=45)"
   ]
  },
  {
   "cell_type": "code",
   "execution_count": 70,
   "metadata": {},
   "outputs": [
    {
     "name": "stderr",
     "output_type": "stream",
     "text": [
      "C:\\Users\\harid\\anaconda3\\lib\\site-packages\\seaborn\\_decorators.py:36: FutureWarning: Pass the following variable as a keyword arg: x. From version 0.12, the only valid positional argument will be `data`, and passing other arguments without an explicit keyword will result in an error or misinterpretation.\n",
      "  warnings.warn(\n"
     ]
    },
    {
     "data": {
      "text/plain": [
       "(array([0, 1, 2]), [Text(0, 0, '-1'), Text(1, 0, '0'), Text(2, 0, '1')])"
      ]
     },
     "execution_count": 70,
     "metadata": {},
     "output_type": "execute_result"
    },
    {
     "data": {
      "image/png": "[encoded data removed]",
      "text/plain": [
       "<Figure size 432x288 with 1 Axes>"
      ]
     },
     "metadata": {
      "needs_background": "light"
     },
     "output_type": "display_data"
    }
   ],
   "source": [
    "import seaborn as sns\n",
    "sns.countplot(consdf[\"Polarity\"])\n",
    "plt.xticks(rotation=45)"
   ]
  },
  {
   "cell_type": "code",
   "execution_count": 71,
   "metadata": {},
   "outputs": [],
   "source": [
    "prosdf['Subjectivity'] = prosdf['CleanedReview'].apply(lambda x: analize_sentiment1(x))\n",
    "consdf['Subjectivity'] = consdf['CleanedReview'].apply(lambda x: analize_sentiment1(x))"
   ]
  },
  {
   "cell_type": "code",
   "execution_count": 72,
   "metadata": {
    "scrolled": true
   },
   "outputs": [
    {
     "data": {
      "text/html": [
       "<div>\n",
       "<style scoped>\n",
       "    .dataframe tbody tr th:only-of-type {\n",
       "        vertical-align: middle;\n",
       "    }\n",
       "\n",
       "    .dataframe tbody tr th {\n",
       "        vertical-align: top;\n",
       "    }\n",
       "\n",
       "    .dataframe thead th {\n",
       "        text-align: right;\n",
       "    }\n",
       "</style>\n",
       "<table border=\"1\" class=\"dataframe\">\n",
       "  <thead>\n",
       "    <tr style=\"text-align: right;\">\n",
       "      <th></th>\n",
       "      <th>Pros</th>\n",
       "      <th>PreCleanStopWords</th>\n",
       "      <th>CleanedReview</th>\n",
       "      <th>PostCleanStopWords</th>\n",
       "      <th>stop_removed</th>\n",
       "      <th>clean_text</th>\n",
       "      <th>Polarity</th>\n",
       "      <th>Subjectivity</th>\n",
       "    </tr>\n",
       "  </thead>\n",
       "  <tbody>\n",
       "    <tr>\n",
       "      <th>0</th>\n",
       "      <td>A very good company, working environment is ve...</td>\n",
       "      <td>[is, as, other, a, to, very, and]</td>\n",
       "      <td>very good company working environment very goo...</td>\n",
       "      <td>[very, other, and]</td>\n",
       "      <td>[work, friendly, environment, good, company, w...</td>\n",
       "      <td>good company working environment good friendly...</td>\n",
       "      <td>1</td>\n",
       "      <td>0.557027</td>\n",
       "    </tr>\n",
       "    <tr>\n",
       "      <th>1</th>\n",
       "      <td>Good working environment in Bangalore</td>\n",
       "      <td>[in]</td>\n",
       "      <td>good working environment bangalore</td>\n",
       "      <td>[]</td>\n",
       "      <td>[bangalore, environment, good, working]</td>\n",
       "      <td>good working environment bangalore</td>\n",
       "      <td>1</td>\n",
       "      <td>0.600000</td>\n",
       "    </tr>\n",
       "    <tr>\n",
       "      <th>2</th>\n",
       "      <td>it has good work environment</td>\n",
       "      <td>[it, has]</td>\n",
       "      <td>has good work environment</td>\n",
       "      <td>[has]</td>\n",
       "      <td>[work, environment, good]</td>\n",
       "      <td>good work environment</td>\n",
       "      <td>1</td>\n",
       "      <td>0.600000</td>\n",
       "    </tr>\n",
       "    <tr>\n",
       "      <th>3</th>\n",
       "      <td>Company is good  to work .\\n\\nWork life balance .</td>\n",
       "      <td>[is, to]</td>\n",
       "      <td>company good work work life balance</td>\n",
       "      <td>[]</td>\n",
       "      <td>[work, good, company, life, balance]</td>\n",
       "      <td>company good work work life balance</td>\n",
       "      <td>1</td>\n",
       "      <td>0.600000</td>\n",
       "    </tr>\n",
       "    <tr>\n",
       "      <th>4</th>\n",
       "      <td>Equality among the colleagues ,Stress free env...</td>\n",
       "      <td>[the]</td>\n",
       "      <td>equality among the colleagues stress free envi...</td>\n",
       "      <td>[the]</td>\n",
       "      <td>[free, environment, colleagues, equality, stre...</td>\n",
       "      <td>equality among colleagues stress free environment</td>\n",
       "      <td>1</td>\n",
       "      <td>0.800000</td>\n",
       "    </tr>\n",
       "  </tbody>\n",
       "</table>\n",
       "</div>"
      ],
      "text/plain": [
       "                                                Pros  \\\n",
       "0  A very good company, working environment is ve...   \n",
       "1              Good working environment in Bangalore   \n",
       "2                       it has good work environment   \n",
       "3  Company is good  to work .\\n\\nWork life balance .   \n",
       "4  Equality among the colleagues ,Stress free env...   \n",
       "\n",
       "                   PreCleanStopWords  \\\n",
       "0  [is, as, other, a, to, very, and]   \n",
       "1                               [in]   \n",
       "2                          [it, has]   \n",
       "3                           [is, to]   \n",
       "4                              [the]   \n",
       "\n",
       "                                       CleanedReview  PostCleanStopWords  \\\n",
       "0  very good company working environment very goo...  [very, other, and]   \n",
       "1                 good working environment bangalore                  []   \n",
       "2                          has good work environment               [has]   \n",
       "3                company good work work life balance                  []   \n",
       "4  equality among the colleagues stress free envi...               [the]   \n",
       "\n",
       "                                        stop_removed  \\\n",
       "0  [work, friendly, environment, good, company, w...   \n",
       "1            [bangalore, environment, good, working]   \n",
       "2                          [work, environment, good]   \n",
       "3               [work, good, company, life, balance]   \n",
       "4  [free, environment, colleagues, equality, stre...   \n",
       "\n",
       "                                          clean_text  Polarity  Subjectivity  \n",
       "0  good company working environment good friendly...         1      0.557027  \n",
       "1                 good working environment bangalore         1      0.600000  \n",
       "2                              good work environment         1      0.600000  \n",
       "3                company good work work life balance         1      0.600000  \n",
       "4  equality among colleagues stress free environment         1      0.800000  "
      ]
     },
     "execution_count": 72,
     "metadata": {},
     "output_type": "execute_result"
    }
   ],
   "source": [
    "prosdf.head()"
   ]
  },
  {
   "cell_type": "code",
   "execution_count": 73,
   "metadata": {},
   "outputs": [],
   "source": [
    "prosconsdf = pd.DataFrame(prosdf['CleanedReview'] + ' ' + consdf['CleanedReview'])"
   ]
  },
  {
   "cell_type": "code",
   "execution_count": 74,
   "metadata": {},
   "outputs": [
    {
     "data": {
      "text/html": [
       "<div>\n",
       "<style scoped>\n",
       "    .dataframe tbody tr th:only-of-type {\n",
       "        vertical-align: middle;\n",
       "    }\n",
       "\n",
       "    .dataframe tbody tr th {\n",
       "        vertical-align: top;\n",
       "    }\n",
       "\n",
       "    .dataframe thead th {\n",
       "        text-align: right;\n",
       "    }\n",
       "</style>\n",
       "<table border=\"1\" class=\"dataframe\">\n",
       "  <thead>\n",
       "    <tr style=\"text-align: right;\">\n",
       "      <th></th>\n",
       "      <th>CleanedReview</th>\n",
       "    </tr>\n",
       "  </thead>\n",
       "  <tbody>\n",
       "    <tr>\n",
       "      <th>0</th>\n",
       "      <td>very good company working environment very goo...</td>\n",
       "    </tr>\n",
       "    <tr>\n",
       "      <th>1</th>\n",
       "      <td>good working environment bangalore compensatio...</td>\n",
       "    </tr>\n",
       "    <tr>\n",
       "      <th>2</th>\n",
       "      <td>has good work environment they not have good o...</td>\n",
       "    </tr>\n",
       "    <tr>\n",
       "      <th>3</th>\n",
       "      <td>company good work work life balance very less ...</td>\n",
       "    </tr>\n",
       "    <tr>\n",
       "      <th>4</th>\n",
       "      <td>equality among the colleagues stress free envi...</td>\n",
       "    </tr>\n",
       "  </tbody>\n",
       "</table>\n",
       "</div>"
      ],
      "text/plain": [
       "                                       CleanedReview\n",
       "0  very good company working environment very goo...\n",
       "1  good working environment bangalore compensatio...\n",
       "2  has good work environment they not have good o...\n",
       "3  company good work work life balance very less ...\n",
       "4  equality among the colleagues stress free envi..."
      ]
     },
     "execution_count": 74,
     "metadata": {},
     "output_type": "execute_result"
    }
   ],
   "source": [
    "prosconsdf.head()"
   ]
  },
  {
   "cell_type": "code",
   "execution_count": 75,
   "metadata": {},
   "outputs": [],
   "source": [
    "prosconsdf['words'] = prosconsdf['CleanedReview'].apply(lambda x : len([x for x in x.split()]))"
   ]
  },
  {
   "cell_type": "code",
   "execution_count": 76,
   "metadata": {},
   "outputs": [
    {
     "data": {
      "text/html": [
       "<div>\n",
       "<style scoped>\n",
       "    .dataframe tbody tr th:only-of-type {\n",
       "        vertical-align: middle;\n",
       "    }\n",
       "\n",
       "    .dataframe tbody tr th {\n",
       "        vertical-align: top;\n",
       "    }\n",
       "\n",
       "    .dataframe thead th {\n",
       "        text-align: right;\n",
       "    }\n",
       "</style>\n",
       "<table border=\"1\" class=\"dataframe\">\n",
       "  <thead>\n",
       "    <tr style=\"text-align: right;\">\n",
       "      <th></th>\n",
       "      <th>CleanedReview</th>\n",
       "      <th>words</th>\n",
       "    </tr>\n",
       "  </thead>\n",
       "  <tbody>\n",
       "    <tr>\n",
       "      <th>0</th>\n",
       "      <td>very good company working environment very goo...</td>\n",
       "      <td>28</td>\n",
       "    </tr>\n",
       "    <tr>\n",
       "      <th>1</th>\n",
       "      <td>good working environment bangalore compensatio...</td>\n",
       "      <td>8</td>\n",
       "    </tr>\n",
       "    <tr>\n",
       "      <th>2</th>\n",
       "      <td>has good work environment they not have good o...</td>\n",
       "      <td>12</td>\n",
       "    </tr>\n",
       "    <tr>\n",
       "      <th>3</th>\n",
       "      <td>company good work work life balance very less ...</td>\n",
       "      <td>24</td>\n",
       "    </tr>\n",
       "    <tr>\n",
       "      <th>4</th>\n",
       "      <td>equality among the colleagues stress free envi...</td>\n",
       "      <td>14</td>\n",
       "    </tr>\n",
       "  </tbody>\n",
       "</table>\n",
       "</div>"
      ],
      "text/plain": [
       "                                       CleanedReview  words\n",
       "0  very good company working environment very goo...     28\n",
       "1  good working environment bangalore compensatio...      8\n",
       "2  has good work environment they not have good o...     12\n",
       "3  company good work work life balance very less ...     24\n",
       "4  equality among the colleagues stress free envi...     14"
      ]
     },
     "execution_count": 76,
     "metadata": {},
     "output_type": "execute_result"
    }
   ],
   "source": [
    "prosconsdf.head()"
   ]
  },
  {
   "cell_type": "code",
   "execution_count": 77,
   "metadata": {},
   "outputs": [
    {
     "data": {
      "text/plain": [
       "'very good company working environment very good and very friendly work pressure less compare other companies work culture good great opportunity learn new technology paywise iit very less'"
      ]
     },
     "execution_count": 77,
     "metadata": {},
     "output_type": "execute_result"
    }
   ],
   "source": [
    "prosconsdf[\"CleanedReview\"][0]"
   ]
  },
  {
   "cell_type": "code",
   "execution_count": 78,
   "metadata": {},
   "outputs": [
    {
     "data": {
      "text/plain": [
       "28"
      ]
     },
     "execution_count": 78,
     "metadata": {},
     "output_type": "execute_result"
    }
   ],
   "source": [
    "wor=prosconsdf[\"CleanedReview\"][0].split()\n",
    "len(wor)"
   ]
  },
  {
   "cell_type": "code",
   "execution_count": 79,
   "metadata": {},
   "outputs": [],
   "source": [
    "prosconsdf['ProsPolarity'] = prosdf.Polarity\n",
    "prosconsdf['ConsPolarity'] = consdf.Polarity\n",
    "prosconsdf['ProsSubjectivity'] = prosdf.Subjectivity\n",
    "prosconsdf['ConsSubjectivity'] = consdf.Subjectivity"
   ]
  },
  {
   "cell_type": "code",
   "execution_count": 80,
   "metadata": {},
   "outputs": [
    {
     "data": {
      "text/html": [
       "<div>\n",
       "<style scoped>\n",
       "    .dataframe tbody tr th:only-of-type {\n",
       "        vertical-align: middle;\n",
       "    }\n",
       "\n",
       "    .dataframe tbody tr th {\n",
       "        vertical-align: top;\n",
       "    }\n",
       "\n",
       "    .dataframe thead th {\n",
       "        text-align: right;\n",
       "    }\n",
       "</style>\n",
       "<table border=\"1\" class=\"dataframe\">\n",
       "  <thead>\n",
       "    <tr style=\"text-align: right;\">\n",
       "      <th></th>\n",
       "      <th>CleanedReview</th>\n",
       "      <th>words</th>\n",
       "      <th>ProsPolarity</th>\n",
       "      <th>ConsPolarity</th>\n",
       "      <th>ProsSubjectivity</th>\n",
       "      <th>ConsSubjectivity</th>\n",
       "    </tr>\n",
       "  </thead>\n",
       "  <tbody>\n",
       "    <tr>\n",
       "      <th>0</th>\n",
       "      <td>very good company working environment very goo...</td>\n",
       "      <td>28</td>\n",
       "      <td>1</td>\n",
       "      <td>-1</td>\n",
       "      <td>0.557027</td>\n",
       "      <td>0.086667</td>\n",
       "    </tr>\n",
       "    <tr>\n",
       "      <th>1</th>\n",
       "      <td>good working environment bangalore compensatio...</td>\n",
       "      <td>8</td>\n",
       "      <td>1</td>\n",
       "      <td>1</td>\n",
       "      <td>0.600000</td>\n",
       "      <td>0.750000</td>\n",
       "    </tr>\n",
       "    <tr>\n",
       "      <th>2</th>\n",
       "      <td>has good work environment they not have good o...</td>\n",
       "      <td>12</td>\n",
       "      <td>1</td>\n",
       "      <td>1</td>\n",
       "      <td>0.600000</td>\n",
       "      <td>0.550000</td>\n",
       "    </tr>\n",
       "    <tr>\n",
       "      <th>3</th>\n",
       "      <td>company good work work life balance very less ...</td>\n",
       "      <td>24</td>\n",
       "      <td>1</td>\n",
       "      <td>-1</td>\n",
       "      <td>0.600000</td>\n",
       "      <td>0.086667</td>\n",
       "    </tr>\n",
       "    <tr>\n",
       "      <th>4</th>\n",
       "      <td>equality among the colleagues stress free envi...</td>\n",
       "      <td>14</td>\n",
       "      <td>1</td>\n",
       "      <td>0</td>\n",
       "      <td>0.800000</td>\n",
       "      <td>0.000000</td>\n",
       "    </tr>\n",
       "  </tbody>\n",
       "</table>\n",
       "</div>"
      ],
      "text/plain": [
       "                                       CleanedReview  words  ProsPolarity  \\\n",
       "0  very good company working environment very goo...     28             1   \n",
       "1  good working environment bangalore compensatio...      8             1   \n",
       "2  has good work environment they not have good o...     12             1   \n",
       "3  company good work work life balance very less ...     24             1   \n",
       "4  equality among the colleagues stress free envi...     14             1   \n",
       "\n",
       "   ConsPolarity  ProsSubjectivity  ConsSubjectivity  \n",
       "0            -1          0.557027          0.086667  \n",
       "1             1          0.600000          0.750000  \n",
       "2             1          0.600000          0.550000  \n",
       "3            -1          0.600000          0.086667  \n",
       "4             0          0.800000          0.000000  "
      ]
     },
     "execution_count": 80,
     "metadata": {},
     "output_type": "execute_result"
    }
   ],
   "source": [
    "prosconsdf.head()"
   ]
  },
  {
   "cell_type": "code",
   "execution_count": 81,
   "metadata": {},
   "outputs": [],
   "source": [
    "prosconsdf['label'] = prosconsdf.apply(lambda x: getlabel(x), axis = 1)"
   ]
  },
  {
   "cell_type": "code",
   "execution_count": 82,
   "metadata": {},
   "outputs": [
    {
     "data": {
      "text/html": [
       "<div>\n",
       "<style scoped>\n",
       "    .dataframe tbody tr th:only-of-type {\n",
       "        vertical-align: middle;\n",
       "    }\n",
       "\n",
       "    .dataframe tbody tr th {\n",
       "        vertical-align: top;\n",
       "    }\n",
       "\n",
       "    .dataframe thead th {\n",
       "        text-align: right;\n",
       "    }\n",
       "</style>\n",
       "<table border=\"1\" class=\"dataframe\">\n",
       "  <thead>\n",
       "    <tr style=\"text-align: right;\">\n",
       "      <th></th>\n",
       "      <th>CleanedReview</th>\n",
       "      <th>words</th>\n",
       "      <th>ProsPolarity</th>\n",
       "      <th>ConsPolarity</th>\n",
       "      <th>ProsSubjectivity</th>\n",
       "      <th>ConsSubjectivity</th>\n",
       "      <th>label</th>\n",
       "    </tr>\n",
       "  </thead>\n",
       "  <tbody>\n",
       "    <tr>\n",
       "      <th>0</th>\n",
       "      <td>very good company working environment very goo...</td>\n",
       "      <td>28</td>\n",
       "      <td>1</td>\n",
       "      <td>-1</td>\n",
       "      <td>0.557027</td>\n",
       "      <td>0.086667</td>\n",
       "      <td>0</td>\n",
       "    </tr>\n",
       "    <tr>\n",
       "      <th>1</th>\n",
       "      <td>good working environment bangalore compensatio...</td>\n",
       "      <td>8</td>\n",
       "      <td>1</td>\n",
       "      <td>1</td>\n",
       "      <td>0.600000</td>\n",
       "      <td>0.750000</td>\n",
       "      <td>0</td>\n",
       "    </tr>\n",
       "    <tr>\n",
       "      <th>2</th>\n",
       "      <td>has good work environment they not have good o...</td>\n",
       "      <td>12</td>\n",
       "      <td>1</td>\n",
       "      <td>1</td>\n",
       "      <td>0.600000</td>\n",
       "      <td>0.550000</td>\n",
       "      <td>0</td>\n",
       "    </tr>\n",
       "    <tr>\n",
       "      <th>3</th>\n",
       "      <td>company good work work life balance very less ...</td>\n",
       "      <td>24</td>\n",
       "      <td>1</td>\n",
       "      <td>-1</td>\n",
       "      <td>0.600000</td>\n",
       "      <td>0.086667</td>\n",
       "      <td>0</td>\n",
       "    </tr>\n",
       "    <tr>\n",
       "      <th>4</th>\n",
       "      <td>equality among the colleagues stress free envi...</td>\n",
       "      <td>14</td>\n",
       "      <td>1</td>\n",
       "      <td>0</td>\n",
       "      <td>0.800000</td>\n",
       "      <td>0.000000</td>\n",
       "      <td>1</td>\n",
       "    </tr>\n",
       "  </tbody>\n",
       "</table>\n",
       "</div>"
      ],
      "text/plain": [
       "                                       CleanedReview  words  ProsPolarity  \\\n",
       "0  very good company working environment very goo...     28             1   \n",
       "1  good working environment bangalore compensatio...      8             1   \n",
       "2  has good work environment they not have good o...     12             1   \n",
       "3  company good work work life balance very less ...     24             1   \n",
       "4  equality among the colleagues stress free envi...     14             1   \n",
       "\n",
       "   ConsPolarity  ProsSubjectivity  ConsSubjectivity  label  \n",
       "0            -1          0.557027          0.086667      0  \n",
       "1             1          0.600000          0.750000      0  \n",
       "2             1          0.600000          0.550000      0  \n",
       "3            -1          0.600000          0.086667      0  \n",
       "4             0          0.800000          0.000000      1  "
      ]
     },
     "execution_count": 82,
     "metadata": {},
     "output_type": "execute_result"
    }
   ],
   "source": [
    "prosconsdf.head()"
   ]
  },
  {
   "cell_type": "code",
   "execution_count": 83,
   "metadata": {},
   "outputs": [
    {
     "data": {
      "text/plain": [
       " 0    919\n",
       " 1    322\n",
       "-1    123\n",
       "Name: label, dtype: int64"
      ]
     },
     "execution_count": 83,
     "metadata": {},
     "output_type": "execute_result"
    }
   ],
   "source": [
    "prosconsdf[\"label\"].value_counts()"
   ]
  },
  {
   "cell_type": "code",
   "execution_count": 84,
   "metadata": {},
   "outputs": [
    {
     "name": "stderr",
     "output_type": "stream",
     "text": [
      "C:\\Users\\harid\\anaconda3\\lib\\site-packages\\seaborn\\_decorators.py:36: FutureWarning: Pass the following variable as a keyword arg: x. From version 0.12, the only valid positional argument will be `data`, and passing other arguments without an explicit keyword will result in an error or misinterpretation.\n",
      "  warnings.warn(\n"
     ]
    },
    {
     "data": {
      "text/plain": [
       "(array([0, 1, 2]), [Text(0, 0, '-1'), Text(1, 0, '0'), Text(2, 0, '1')])"
      ]
     },
     "execution_count": 84,
     "metadata": {},
     "output_type": "execute_result"
    },
    {
     "data": {
      "image/png": "[encoded data removed]",
      "text/plain": [
       "<Figure size 432x288 with 1 Axes>"
      ]
     },
     "metadata": {
      "needs_background": "light"
     },
     "output_type": "display_data"
    }
   ],
   "source": [
    "sns.countplot(prosconsdf[\"label\"])\n",
    "plt.xticks(rotation=45)"
   ]
  },
  {
   "cell_type": "code",
   "execution_count": 85,
   "metadata": {},
   "outputs": [
    {
     "data": {
      "text/html": [
       "<div>\n",
       "<style scoped>\n",
       "    .dataframe tbody tr th:only-of-type {\n",
       "        vertical-align: middle;\n",
       "    }\n",
       "\n",
       "    .dataframe tbody tr th {\n",
       "        vertical-align: top;\n",
       "    }\n",
       "\n",
       "    .dataframe thead th {\n",
       "        text-align: right;\n",
       "    }\n",
       "</style>\n",
       "<table border=\"1\" class=\"dataframe\">\n",
       "  <thead>\n",
       "    <tr style=\"text-align: right;\">\n",
       "      <th></th>\n",
       "      <th>CleanedReview</th>\n",
       "      <th>words</th>\n",
       "      <th>ProsPolarity</th>\n",
       "      <th>ConsPolarity</th>\n",
       "      <th>ProsSubjectivity</th>\n",
       "      <th>ConsSubjectivity</th>\n",
       "      <th>label</th>\n",
       "    </tr>\n",
       "  </thead>\n",
       "  <tbody>\n",
       "    <tr>\n",
       "      <th>0</th>\n",
       "      <td>very good company working environment very goo...</td>\n",
       "      <td>28</td>\n",
       "      <td>1</td>\n",
       "      <td>-1</td>\n",
       "      <td>0.557027</td>\n",
       "      <td>0.086667</td>\n",
       "      <td>0</td>\n",
       "    </tr>\n",
       "    <tr>\n",
       "      <th>1</th>\n",
       "      <td>good working environment bangalore compensatio...</td>\n",
       "      <td>8</td>\n",
       "      <td>1</td>\n",
       "      <td>1</td>\n",
       "      <td>0.600000</td>\n",
       "      <td>0.750000</td>\n",
       "      <td>0</td>\n",
       "    </tr>\n",
       "    <tr>\n",
       "      <th>2</th>\n",
       "      <td>has good work environment they not have good o...</td>\n",
       "      <td>12</td>\n",
       "      <td>1</td>\n",
       "      <td>1</td>\n",
       "      <td>0.600000</td>\n",
       "      <td>0.550000</td>\n",
       "      <td>0</td>\n",
       "    </tr>\n",
       "    <tr>\n",
       "      <th>3</th>\n",
       "      <td>company good work work life balance very less ...</td>\n",
       "      <td>24</td>\n",
       "      <td>1</td>\n",
       "      <td>-1</td>\n",
       "      <td>0.600000</td>\n",
       "      <td>0.086667</td>\n",
       "      <td>0</td>\n",
       "    </tr>\n",
       "    <tr>\n",
       "      <th>4</th>\n",
       "      <td>equality among the colleagues stress free envi...</td>\n",
       "      <td>14</td>\n",
       "      <td>1</td>\n",
       "      <td>0</td>\n",
       "      <td>0.800000</td>\n",
       "      <td>0.000000</td>\n",
       "      <td>1</td>\n",
       "    </tr>\n",
       "  </tbody>\n",
       "</table>\n",
       "</div>"
      ],
      "text/plain": [
       "                                       CleanedReview  words  ProsPolarity  \\\n",
       "0  very good company working environment very goo...     28             1   \n",
       "1  good working environment bangalore compensatio...      8             1   \n",
       "2  has good work environment they not have good o...     12             1   \n",
       "3  company good work work life balance very less ...     24             1   \n",
       "4  equality among the colleagues stress free envi...     14             1   \n",
       "\n",
       "   ConsPolarity  ProsSubjectivity  ConsSubjectivity  label  \n",
       "0            -1          0.557027          0.086667      0  \n",
       "1             1          0.600000          0.750000      0  \n",
       "2             1          0.600000          0.550000      0  \n",
       "3            -1          0.600000          0.086667      0  \n",
       "4             0          0.800000          0.000000      1  "
      ]
     },
     "execution_count": 85,
     "metadata": {},
     "output_type": "execute_result"
    }
   ],
   "source": [
    "prosconsdf.head()"
   ]
  },
  {
   "cell_type": "code",
   "execution_count": 86,
   "metadata": {},
   "outputs": [],
   "source": [
    "prosconsdf[\"label1\"]=prosconsdf[\"CleanedReview\"].apply(lambda x: analize_sentiment(x))\n",
    "    "
   ]
  },
  {
   "cell_type": "code",
   "execution_count": 87,
   "metadata": {},
   "outputs": [
    {
     "data": {
      "text/html": [
       "<div>\n",
       "<style scoped>\n",
       "    .dataframe tbody tr th:only-of-type {\n",
       "        vertical-align: middle;\n",
       "    }\n",
       "\n",
       "    .dataframe tbody tr th {\n",
       "        vertical-align: top;\n",
       "    }\n",
       "\n",
       "    .dataframe thead th {\n",
       "        text-align: right;\n",
       "    }\n",
       "</style>\n",
       "<table border=\"1\" class=\"dataframe\">\n",
       "  <thead>\n",
       "    <tr style=\"text-align: right;\">\n",
       "      <th></th>\n",
       "      <th>CleanedReview</th>\n",
       "      <th>words</th>\n",
       "      <th>ProsPolarity</th>\n",
       "      <th>ConsPolarity</th>\n",
       "      <th>ProsSubjectivity</th>\n",
       "      <th>ConsSubjectivity</th>\n",
       "      <th>label</th>\n",
       "      <th>label1</th>\n",
       "    </tr>\n",
       "  </thead>\n",
       "  <tbody>\n",
       "    <tr>\n",
       "      <th>0</th>\n",
       "      <td>very good company working environment very goo...</td>\n",
       "      <td>28</td>\n",
       "      <td>1</td>\n",
       "      <td>-1</td>\n",
       "      <td>0.557027</td>\n",
       "      <td>0.086667</td>\n",
       "      <td>0</td>\n",
       "      <td>1</td>\n",
       "    </tr>\n",
       "    <tr>\n",
       "      <th>1</th>\n",
       "      <td>good working environment bangalore compensatio...</td>\n",
       "      <td>8</td>\n",
       "      <td>1</td>\n",
       "      <td>1</td>\n",
       "      <td>0.600000</td>\n",
       "      <td>0.750000</td>\n",
       "      <td>0</td>\n",
       "      <td>1</td>\n",
       "    </tr>\n",
       "    <tr>\n",
       "      <th>2</th>\n",
       "      <td>has good work environment they not have good o...</td>\n",
       "      <td>12</td>\n",
       "      <td>1</td>\n",
       "      <td>1</td>\n",
       "      <td>0.600000</td>\n",
       "      <td>0.550000</td>\n",
       "      <td>0</td>\n",
       "      <td>1</td>\n",
       "    </tr>\n",
       "    <tr>\n",
       "      <th>3</th>\n",
       "      <td>company good work work life balance very less ...</td>\n",
       "      <td>24</td>\n",
       "      <td>1</td>\n",
       "      <td>-1</td>\n",
       "      <td>0.600000</td>\n",
       "      <td>0.086667</td>\n",
       "      <td>0</td>\n",
       "      <td>1</td>\n",
       "    </tr>\n",
       "    <tr>\n",
       "      <th>4</th>\n",
       "      <td>equality among the colleagues stress free envi...</td>\n",
       "      <td>14</td>\n",
       "      <td>1</td>\n",
       "      <td>0</td>\n",
       "      <td>0.800000</td>\n",
       "      <td>0.000000</td>\n",
       "      <td>1</td>\n",
       "      <td>1</td>\n",
       "    </tr>\n",
       "  </tbody>\n",
       "</table>\n",
       "</div>"
      ],
      "text/plain": [
       "                                       CleanedReview  words  ProsPolarity  \\\n",
       "0  very good company working environment very goo...     28             1   \n",
       "1  good working environment bangalore compensatio...      8             1   \n",
       "2  has good work environment they not have good o...     12             1   \n",
       "3  company good work work life balance very less ...     24             1   \n",
       "4  equality among the colleagues stress free envi...     14             1   \n",
       "\n",
       "   ConsPolarity  ProsSubjectivity  ConsSubjectivity  label  label1  \n",
       "0            -1          0.557027          0.086667      0       1  \n",
       "1             1          0.600000          0.750000      0       1  \n",
       "2             1          0.600000          0.550000      0       1  \n",
       "3            -1          0.600000          0.086667      0       1  \n",
       "4             0          0.800000          0.000000      1       1  "
      ]
     },
     "execution_count": 87,
     "metadata": {},
     "output_type": "execute_result"
    }
   ],
   "source": [
    "prosconsdf.head()"
   ]
  },
  {
   "cell_type": "code",
   "execution_count": 88,
   "metadata": {},
   "outputs": [
    {
     "name": "stderr",
     "output_type": "stream",
     "text": [
      "C:\\Users\\harid\\anaconda3\\lib\\site-packages\\seaborn\\_decorators.py:36: FutureWarning: Pass the following variable as a keyword arg: x. From version 0.12, the only valid positional argument will be `data`, and passing other arguments without an explicit keyword will result in an error or misinterpretation.\n",
      "  warnings.warn(\n"
     ]
    },
    {
     "data": {
      "text/plain": [
       "<AxesSubplot:xlabel='label1', ylabel='count'>"
      ]
     },
     "execution_count": 88,
     "metadata": {},
     "output_type": "execute_result"
    },
    {
     "data": {
      "image/png": "[encoded data removed]",
      "text/plain": [
       "<Figure size 432x288 with 1 Axes>"
      ]
     },
     "metadata": {
      "needs_background": "light"
     },
     "output_type": "display_data"
    }
   ],
   "source": [
    "sns.countplot(prosconsdf[\"label1\"])"
   ]
  },
  {
   "cell_type": "code",
   "execution_count": 89,
   "metadata": {
    "scrolled": true
   },
   "outputs": [
    {
     "name": "stdout",
     "output_type": "stream",
     "text": [
      "  (0, 1574)\t0.3468829204423605\n",
      "  (0, 2344)\t0.3468829204423605\n",
      "  (0, 3211)\t0.19247670461804775\n",
      "  (0, 2139)\t0.17351894891006042\n",
      "  (0, 1818)\t0.15854912821066902\n",
      "  (0, 2239)\t0.1804458655244008\n",
      "  (0, 1416)\t0.15854912821066902\n",
      "  (0, 770)\t0.1306459014894576\n",
      "  (0, 615)\t0.19851615459545524\n",
      "  (0, 2269)\t0.16475932093294807\n",
      "  (0, 619)\t0.2482414342056751\n",
      "  (0, 1836)\t0.23854811004091414\n",
      "  (0, 2471)\t0.19088714270622226\n",
      "  (0, 3560)\t0.13961444279869614\n",
      "  (0, 1328)\t0.15854912821066902\n",
      "  (0, 139)\t0.08602194959247894\n",
      "  (0, 1082)\t0.12564178090870048\n",
      "  (0, 3567)\t0.14024910599474766\n",
      "  (0, 617)\t0.11426925458089437\n",
      "  (0, 1398)\t0.19851001591321907\n",
      "  (0, 3468)\t0.4804303237685066\n",
      "  (1, 3234)\t0.35169526518753974\n",
      "  (1, 2167)\t0.21322936116102606\n",
      "  (1, 625)\t0.3935073144146326\n",
      "  (1, 287)\t0.6305817471994806\n",
      "  :\t:\n",
      "  (1362, 1628)\t0.41325500728714104\n",
      "  (1362, 3287)\t0.13664365591385366\n",
      "  (1362, 3598)\t0.11658702663586058\n",
      "  (1362, 198)\t0.1650252057683815\n",
      "  (1362, 2085)\t0.37371544161876064\n",
      "  (1362, 3560)\t0.05375976945305782\n",
      "  (1363, 2669)\t0.37287682393868105\n",
      "  (1363, 2350)\t0.35278735909233183\n",
      "  (1363, 777)\t0.33853365694663895\n",
      "  (1363, 1172)\t0.28410102510824764\n",
      "  (1363, 1513)\t0.28410102510824764\n",
      "  (1363, 42)\t0.24038153837089007\n",
      "  (1363, 2500)\t0.23707719973174787\n",
      "  (1363, 2215)\t0.18107152413212135\n",
      "  (1363, 1285)\t0.10441684999116323\n",
      "  (1363, 1821)\t0.16643224247856533\n",
      "  (1363, 1515)\t0.18107152413212135\n",
      "  (1363, 1426)\t0.16098205928577214\n",
      "  (1363, 2335)\t0.1691965211688197\n",
      "  (1363, 2237)\t0.15514629658511583\n",
      "  (1363, 1416)\t0.17043011310574027\n",
      "  (1363, 1836)\t0.2564238721099305\n",
      "  (1363, 2471)\t0.2051913983319137\n",
      "  (1363, 139)\t0.0924680618813767\n",
      "  (1363, 1082)\t0.13505683173876662\n"
     ]
    }
   ],
   "source": [
    "from sklearn.feature_extraction.text import TfidfVectorizer\n",
    "sklearn_tfidf = TfidfVectorizer(norm='l2',min_df=0, use_idf=True, smooth_idf=True, tokenizer=None)\n",
    "\n",
    "sklearn_representation = sklearn_tfidf.fit_transform(prosconsdf.CleanedReview)\n",
    "print(sklearn_representation)"
   ]
  },
  {
   "cell_type": "code",
   "execution_count": 90,
   "metadata": {},
   "outputs": [
    {
     "data": {
      "text/plain": [
       "'very good company working environment very good and very friendly work pressure less compare other companies work culture good great opportunity learn new technology paywise iit very less'"
      ]
     },
     "execution_count": 90,
     "metadata": {},
     "output_type": "execute_result"
    }
   ],
   "source": [
    "prosconsdf[\"CleanedReview\"][0]"
   ]
  },
  {
   "cell_type": "code",
   "execution_count": 91,
   "metadata": {},
   "outputs": [
    {
     "data": {
      "text/plain": [
       "(1364, 8)"
      ]
     },
     "execution_count": 91,
     "metadata": {},
     "output_type": "execute_result"
    }
   ],
   "source": [
    "prosconsdf.shape"
   ]
  },
  {
   "cell_type": "code",
   "execution_count": 92,
   "metadata": {},
   "outputs": [
    {
     "data": {
      "text/plain": [
       "21"
      ]
     },
     "execution_count": 92,
     "metadata": {},
     "output_type": "execute_result"
    }
   ],
   "source": [
    "len(set(prosconsdf[\"CleanedReview\"][0].split()))"
   ]
  },
  {
   "cell_type": "code",
   "execution_count": 93,
   "metadata": {},
   "outputs": [
    {
     "data": {
      "text/plain": [
       "19"
      ]
     },
     "execution_count": 93,
     "metadata": {},
     "output_type": "execute_result"
    }
   ],
   "source": [
    "len(set(prosconsdf[\"CleanedReview\"][1364].split()))"
   ]
  },
  {
   "cell_type": "code",
   "execution_count": 94,
   "metadata": {},
   "outputs": [],
   "source": [
    "data_features = sklearn_representation.toarray()\n"
   ]
  },
  {
   "cell_type": "code",
   "execution_count": 95,
   "metadata": {},
   "outputs": [
    {
     "data": {
      "text/plain": [
       "numpy.ndarray"
      ]
     },
     "execution_count": 95,
     "metadata": {},
     "output_type": "execute_result"
    }
   ],
   "source": [
    "type(data_features)"
   ]
  },
  {
   "cell_type": "code",
   "execution_count": 96,
   "metadata": {},
   "outputs": [
    {
     "data": {
      "text/plain": [
       "(1364, 3604)"
      ]
     },
     "execution_count": 96,
     "metadata": {},
     "output_type": "execute_result"
    }
   ],
   "source": [
    "data_features = pd.DataFrame(data_features)\n",
    "data_features.shape"
   ]
  },
  {
   "cell_type": "code",
   "execution_count": 97,
   "metadata": {},
   "outputs": [
    {
     "data": {
      "text/html": [
       "<div>\n",
       "<style scoped>\n",
       "    .dataframe tbody tr th:only-of-type {\n",
       "        vertical-align: middle;\n",
       "    }\n",
       "\n",
       "    .dataframe tbody tr th {\n",
       "        vertical-align: top;\n",
       "    }\n",
       "\n",
       "    .dataframe thead th {\n",
       "        text-align: right;\n",
       "    }\n",
       "</style>\n",
       "<table border=\"1\" class=\"dataframe\">\n",
       "  <thead>\n",
       "    <tr style=\"text-align: right;\">\n",
       "      <th></th>\n",
       "      <th>0</th>\n",
       "      <th>1</th>\n",
       "      <th>2</th>\n",
       "      <th>3</th>\n",
       "      <th>4</th>\n",
       "      <th>5</th>\n",
       "      <th>6</th>\n",
       "      <th>7</th>\n",
       "      <th>8</th>\n",
       "      <th>9</th>\n",
       "      <th>...</th>\n",
       "      <th>3594</th>\n",
       "      <th>3595</th>\n",
       "      <th>3596</th>\n",
       "      <th>3597</th>\n",
       "      <th>3598</th>\n",
       "      <th>3599</th>\n",
       "      <th>3600</th>\n",
       "      <th>3601</th>\n",
       "      <th>3602</th>\n",
       "      <th>3603</th>\n",
       "    </tr>\n",
       "  </thead>\n",
       "  <tbody>\n",
       "    <tr>\n",
       "      <th>0</th>\n",
       "      <td>0.0</td>\n",
       "      <td>0.0</td>\n",
       "      <td>0.0</td>\n",
       "      <td>0.0</td>\n",
       "      <td>0.0</td>\n",
       "      <td>0.0</td>\n",
       "      <td>0.0</td>\n",
       "      <td>0.0</td>\n",
       "      <td>0.0</td>\n",
       "      <td>0.0</td>\n",
       "      <td>...</td>\n",
       "      <td>0.0</td>\n",
       "      <td>0.0</td>\n",
       "      <td>0.000000</td>\n",
       "      <td>0.0</td>\n",
       "      <td>0.0</td>\n",
       "      <td>0.0</td>\n",
       "      <td>0.0</td>\n",
       "      <td>0.0</td>\n",
       "      <td>0.0</td>\n",
       "      <td>0.0</td>\n",
       "    </tr>\n",
       "    <tr>\n",
       "      <th>1</th>\n",
       "      <td>0.0</td>\n",
       "      <td>0.0</td>\n",
       "      <td>0.0</td>\n",
       "      <td>0.0</td>\n",
       "      <td>0.0</td>\n",
       "      <td>0.0</td>\n",
       "      <td>0.0</td>\n",
       "      <td>0.0</td>\n",
       "      <td>0.0</td>\n",
       "      <td>0.0</td>\n",
       "      <td>...</td>\n",
       "      <td>0.0</td>\n",
       "      <td>0.0</td>\n",
       "      <td>0.000000</td>\n",
       "      <td>0.0</td>\n",
       "      <td>0.0</td>\n",
       "      <td>0.0</td>\n",
       "      <td>0.0</td>\n",
       "      <td>0.0</td>\n",
       "      <td>0.0</td>\n",
       "      <td>0.0</td>\n",
       "    </tr>\n",
       "    <tr>\n",
       "      <th>2</th>\n",
       "      <td>0.0</td>\n",
       "      <td>0.0</td>\n",
       "      <td>0.0</td>\n",
       "      <td>0.0</td>\n",
       "      <td>0.0</td>\n",
       "      <td>0.0</td>\n",
       "      <td>0.0</td>\n",
       "      <td>0.0</td>\n",
       "      <td>0.0</td>\n",
       "      <td>0.0</td>\n",
       "      <td>...</td>\n",
       "      <td>0.0</td>\n",
       "      <td>0.0</td>\n",
       "      <td>0.000000</td>\n",
       "      <td>0.0</td>\n",
       "      <td>0.0</td>\n",
       "      <td>0.0</td>\n",
       "      <td>0.0</td>\n",
       "      <td>0.0</td>\n",
       "      <td>0.0</td>\n",
       "      <td>0.0</td>\n",
       "    </tr>\n",
       "    <tr>\n",
       "      <th>3</th>\n",
       "      <td>0.0</td>\n",
       "      <td>0.0</td>\n",
       "      <td>0.0</td>\n",
       "      <td>0.0</td>\n",
       "      <td>0.0</td>\n",
       "      <td>0.0</td>\n",
       "      <td>0.0</td>\n",
       "      <td>0.0</td>\n",
       "      <td>0.0</td>\n",
       "      <td>0.0</td>\n",
       "      <td>...</td>\n",
       "      <td>0.0</td>\n",
       "      <td>0.0</td>\n",
       "      <td>0.234106</td>\n",
       "      <td>0.0</td>\n",
       "      <td>0.0</td>\n",
       "      <td>0.0</td>\n",
       "      <td>0.0</td>\n",
       "      <td>0.0</td>\n",
       "      <td>0.0</td>\n",
       "      <td>0.0</td>\n",
       "    </tr>\n",
       "    <tr>\n",
       "      <th>4</th>\n",
       "      <td>0.0</td>\n",
       "      <td>0.0</td>\n",
       "      <td>0.0</td>\n",
       "      <td>0.0</td>\n",
       "      <td>0.0</td>\n",
       "      <td>0.0</td>\n",
       "      <td>0.0</td>\n",
       "      <td>0.0</td>\n",
       "      <td>0.0</td>\n",
       "      <td>0.0</td>\n",
       "      <td>...</td>\n",
       "      <td>0.0</td>\n",
       "      <td>0.0</td>\n",
       "      <td>0.000000</td>\n",
       "      <td>0.0</td>\n",
       "      <td>0.0</td>\n",
       "      <td>0.0</td>\n",
       "      <td>0.0</td>\n",
       "      <td>0.0</td>\n",
       "      <td>0.0</td>\n",
       "      <td>0.0</td>\n",
       "    </tr>\n",
       "  </tbody>\n",
       "</table>\n",
       "<p>5 rows × 3604 columns</p>\n",
       "</div>"
      ],
      "text/plain": [
       "   0     1     2     3     4     5     6     7     8     9     ...  3594  \\\n",
       "0   0.0   0.0   0.0   0.0   0.0   0.0   0.0   0.0   0.0   0.0  ...   0.0   \n",
       "1   0.0   0.0   0.0   0.0   0.0   0.0   0.0   0.0   0.0   0.0  ...   0.0   \n",
       "2   0.0   0.0   0.0   0.0   0.0   0.0   0.0   0.0   0.0   0.0  ...   0.0   \n",
       "3   0.0   0.0   0.0   0.0   0.0   0.0   0.0   0.0   0.0   0.0  ...   0.0   \n",
       "4   0.0   0.0   0.0   0.0   0.0   0.0   0.0   0.0   0.0   0.0  ...   0.0   \n",
       "\n",
       "   3595      3596  3597  3598  3599  3600  3601  3602  3603  \n",
       "0   0.0  0.000000   0.0   0.0   0.0   0.0   0.0   0.0   0.0  \n",
       "1   0.0  0.000000   0.0   0.0   0.0   0.0   0.0   0.0   0.0  \n",
       "2   0.0  0.000000   0.0   0.0   0.0   0.0   0.0   0.0   0.0  \n",
       "3   0.0  0.234106   0.0   0.0   0.0   0.0   0.0   0.0   0.0  \n",
       "4   0.0  0.000000   0.0   0.0   0.0   0.0   0.0   0.0   0.0  \n",
       "\n",
       "[5 rows x 3604 columns]"
      ]
     },
     "execution_count": 97,
     "metadata": {},
     "output_type": "execute_result"
    }
   ],
   "source": [
    "data_features.head()"
   ]
  },
  {
   "cell_type": "code",
   "execution_count": 98,
   "metadata": {},
   "outputs": [
    {
     "data": {
      "text/plain": [
       "Counter({1: 1117, -1: 196, 0: 51})"
      ]
     },
     "execution_count": 98,
     "metadata": {},
     "output_type": "execute_result"
    }
   ],
   "source": [
    "Counter(prosconsdf.label1)"
   ]
  },
  {
   "cell_type": "code",
   "execution_count": 99,
   "metadata": {},
   "outputs": [],
   "source": [
    "data_features['Sentiment'] = prosconsdf.label1"
   ]
  },
  {
   "cell_type": "code",
   "execution_count": 100,
   "metadata": {},
   "outputs": [
    {
     "data": {
      "text/plain": [
       " 1.0    1116\n",
       "-1.0     196\n",
       " 0.0      51\n",
       "Name: Sentiment, dtype: int64"
      ]
     },
     "execution_count": 100,
     "metadata": {},
     "output_type": "execute_result"
    }
   ],
   "source": [
    "data_features[\"Sentiment\"].value_counts()"
   ]
  },
  {
   "cell_type": "code",
   "execution_count": 101,
   "metadata": {},
   "outputs": [],
   "source": [
    "data_features=data_features.dropna()"
   ]
  },
  {
   "cell_type": "code",
   "execution_count": 102,
   "metadata": {},
   "outputs": [
    {
     "name": "stdout",
     "output_type": "stream",
     "text": [
      "(1090, 3605) (273, 3605)\n"
     ]
    }
   ],
   "source": [
    "from sklearn.model_selection import train_test_split\n",
    "train,test=train_test_split(data_features,test_size=0.2,random_state=0)\n",
    "print(train.shape,test.shape)"
   ]
  },
  {
   "cell_type": "code",
   "execution_count": 103,
   "metadata": {},
   "outputs": [],
   "source": [
    "x_train=train.drop([\"Sentiment\"],axis=1)\n",
    "y_train=train[\"Sentiment\"]\n",
    "x_test=test.drop([\"Sentiment\"],axis=1)\n",
    "y_test=test[\"Sentiment\"]"
   ]
  },
  {
   "cell_type": "code",
   "execution_count": 104,
   "metadata": {},
   "outputs": [
    {
     "data": {
      "text/plain": [
       " 1.0    897\n",
       "-1.0    155\n",
       " 0.0     38\n",
       "Name: Sentiment, dtype: int64"
      ]
     },
     "execution_count": 104,
     "metadata": {},
     "output_type": "execute_result"
    }
   ],
   "source": [
    "train[\"Sentiment\"].value_counts()"
   ]
  },
  {
   "cell_type": "code",
   "execution_count": 105,
   "metadata": {},
   "outputs": [
    {
     "data": {
      "text/plain": [
       "MultinomialNB()"
      ]
     },
     "execution_count": 105,
     "metadata": {},
     "output_type": "execute_result"
    }
   ],
   "source": [
    "from sklearn.naive_bayes import MultinomialNB\n",
    "mn=MultinomialNB()\n",
    "mn.fit(x_train,y_train)"
   ]
  },
  {
   "cell_type": "code",
   "execution_count": 106,
   "metadata": {},
   "outputs": [
    {
     "data": {
      "text/plain": [
       "0.8229357798165138"
      ]
     },
     "execution_count": 106,
     "metadata": {},
     "output_type": "execute_result"
    }
   ],
   "source": [
    "mn.score(x_train,y_train)"
   ]
  },
  {
   "cell_type": "code",
   "execution_count": 107,
   "metadata": {},
   "outputs": [
    {
     "data": {
      "text/plain": [
       "0.7985347985347986"
      ]
     },
     "execution_count": 107,
     "metadata": {},
     "output_type": "execute_result"
    }
   ],
   "source": [
    "mn.score(x_test,y_test)"
   ]
  },
  {
   "cell_type": "code",
   "execution_count": 108,
   "metadata": {},
   "outputs": [
    {
     "data": {
      "text/plain": [
       "SVC(kernel='linear')"
      ]
     },
     "execution_count": 108,
     "metadata": {},
     "output_type": "execute_result"
    }
   ],
   "source": [
    "from sklearn.svm import SVC\n",
    "sv=SVC(kernel=\"linear\")\n",
    "sv.fit(x_train,y_train)"
   ]
  },
  {
   "cell_type": "code",
   "execution_count": 109,
   "metadata": {},
   "outputs": [
    {
     "data": {
      "text/plain": [
       "0.8458715596330275"
      ]
     },
     "execution_count": 109,
     "metadata": {},
     "output_type": "execute_result"
    }
   ],
   "source": [
    "sv.score(x_train,y_train)"
   ]
  },
  {
   "cell_type": "code",
   "execution_count": 110,
   "metadata": {},
   "outputs": [
    {
     "data": {
      "text/plain": [
       "0.8021978021978022"
      ]
     },
     "execution_count": 110,
     "metadata": {},
     "output_type": "execute_result"
    }
   ],
   "source": [
    "sv.score(x_test,y_test)"
   ]
  },
  {
   "cell_type": "code",
   "execution_count": null,
   "metadata": {},
   "outputs": [],
   "source": []
  }
 ],
 "metadata": {
  "kernelspec": {
   "display_name": "Python 3",
   "language": "python",
   "name": "python3"
  },
  "language_info": {
   "codemirror_mode": {
    "name": "ipython",
    "version": 3
   },
   "file_extension": ".py",
   "mimetype": "text/x-python",
   "name": "python",
   "nbconvert_exporter": "python",
   "pygments_lexer": "ipython3",
   "version": "3.8.5"
  }
 },
 "nbformat": 4,
 "nbformat_minor": 4
}
